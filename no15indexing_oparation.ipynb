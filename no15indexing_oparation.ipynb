{
 "cells": [
  {
   "cell_type": "markdown",
   "id": "hearing-benjamin",
   "metadata": {},
   "source": [
    "# index in one dimensiional array we learn before\n",
    "# index in two dimensional arryy object[row][column]"
   ]
  },
  {
   "cell_type": "code",
   "execution_count": 1,
   "id": "weekly-wealth",
   "metadata": {},
   "outputs": [
    {
     "data": {
      "text/plain": [
       "1"
      ]
     },
     "execution_count": 1,
     "metadata": {},
     "output_type": "execute_result"
    }
   ],
   "source": [
    "# two dimensional array\n",
    "import numpy as np\n",
    "a=np.array([[1,2,3],[4,5,6]])\n",
    "a[0][0]"
   ]
  },
  {
   "cell_type": "code",
   "execution_count": 2,
   "id": "fleet-trader",
   "metadata": {},
   "outputs": [
    {
     "data": {
      "text/plain": [
       "5"
      ]
     },
     "execution_count": 2,
     "metadata": {},
     "output_type": "execute_result"
    }
   ],
   "source": [
    "a[-1][-2]"
   ]
  },
  {
   "cell_type": "code",
   "execution_count": 2,
   "id": "distinguished-kentucky",
   "metadata": {},
   "outputs": [
    {
     "data": {
      "text/plain": [
       "17"
      ]
     },
     "execution_count": 2,
     "metadata": {},
     "output_type": "execute_result"
    }
   ],
   "source": [
    "#three dimensional indexing\n",
    "# three dimensional array = a[number of 2d array][row][column]\n",
    "import numpy as np\n",
    "b=[[[1,2,3],\n",
    "    [4,5,6],\n",
    "    [7,8,9]],\n",
    "   [[10,11,12],\n",
    "    [13,14,15],\n",
    "    [16,17,18]]]\n",
    "c=np.array(b)\n",
    "c[1][2][1]"
   ]
  },
  {
   "cell_type": "code",
   "execution_count": null,
   "id": "objective-twenty",
   "metadata": {},
   "outputs": [],
   "source": []
  }
 ],
 "metadata": {
  "kernelspec": {
   "display_name": "Python 3",
   "language": "python",
   "name": "python3"
  },
  "language_info": {
   "codemirror_mode": {
    "name": "ipython",
    "version": 3
   },
   "file_extension": ".py",
   "mimetype": "text/x-python",
   "name": "python",
   "nbconvert_exporter": "python",
   "pygments_lexer": "ipython3",
   "version": "3.9.2"
  }
 },
 "nbformat": 4,
 "nbformat_minor": 5
}
