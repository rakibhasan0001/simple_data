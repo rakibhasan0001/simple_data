{
 "cells": [
  {
   "cell_type": "markdown",
   "id": "binding-february",
   "metadata": {},
   "source": [
    "                           #list vs array\n"
   ]
  },
  {
   "cell_type": "markdown",
   "id": "accompanied-microphone",
   "metadata": {},
   "source": [
    "# diffrence between list and numpy arrys\n",
    "\n",
    "|nupy arrys                   ||             python list                               |\n",
    "|-----------------------------||---------------------------------|\n",
    "|1.same type of datatype      ||          diffrent type of datatype|\n",
    "|2.mathematical oparation|\n",
    "|is possible                  ||           mathematical oparation is almost impossible|\n",
    "|3.written by c and python    ||            written by c++|\n",
    "|4.faster than list           ||            slower than list|"
   ]
  },
  {
   "cell_type": "code",
   "execution_count": null,
   "id": "unlimited-thirty",
   "metadata": {},
   "outputs": [],
   "source": []
  }
 ],
 "metadata": {
  "kernelspec": {
   "display_name": "Python 3",
   "language": "python",
   "name": "python3"
  },
  "language_info": {
   "codemirror_mode": {
    "name": "ipython",
    "version": 3
   },
   "file_extension": ".py",
   "mimetype": "text/x-python",
   "name": "python",
   "nbconvert_exporter": "python",
   "pygments_lexer": "ipython3",
   "version": "3.9.2"
  }
 },
 "nbformat": 4,
 "nbformat_minor": 5
}
