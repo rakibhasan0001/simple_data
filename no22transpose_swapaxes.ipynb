{
 "cells": [
  {
   "cell_type": "code",
   "execution_count": 3,
   "id": "missing-boring",
   "metadata": {},
   "outputs": [
    {
     "name": "stdout",
     "output_type": "stream",
     "text": [
      "[[ 1  3  5  7  9]\n",
      " [ 2  4  6  8 10]]\n",
      "shape of array1 is :  (5, 2)\n",
      "shape of arry1 after transpose : (2, 5)\n"
     ]
    }
   ],
   "source": [
    "import numpy as np\n",
    "array1=np.arange(1,11).reshape(5,2)\n",
    "print(np.transpose(array1))\n",
    "print('shape of array1 is : ',array1.shape)\n",
    "print('shape of arry1 after transpose :',np.transpose(array1).shape)\n",
    "#transpose does not work in 1 dimensional array"
   ]
  },
  {
   "cell_type": "code",
   "execution_count": 8,
   "id": "cognitive-trainer",
   "metadata": {},
   "outputs": [
    {
     "name": "stdout",
     "output_type": "stream",
     "text": [
      "[[[ 1 10]\n",
      "  [ 4 13]\n",
      "  [ 7 16]]\n",
      "\n",
      " [[ 2 11]\n",
      "  [ 5 14]\n",
      "  [ 8 17]]\n",
      "\n",
      " [[ 3 12]\n",
      "  [ 6 15]\n",
      "  [ 9 18]]]\n",
      "array 2 shape is : (2, 3, 3)\n",
      "array 2 shape after:  (3, 3, 2)\n"
     ]
    }
   ],
   "source": [
    "#3d array\n",
    "import numpy as np\n",
    "array2=np.array([\n",
    "    [\n",
    "  [1,2,3],\n",
    "  [4,5,6],\n",
    "  [7,8,9]\n",
    "],\n",
    "  [\n",
    "    [10,11,12],\n",
    "    [13,14,15],\n",
    "    [16,17,18]\n",
    "    ]\n",
    "])\n",
    "print(np.transpose(array2))\n",
    "print('array 2 shape is :',array2.shape)\n",
    "print('array 2 shape after: ',np.transpose(array2).shape)"
   ]
  },
  {
   "cell_type": "code",
   "execution_count": 10,
   "id": "ordinary-revelation",
   "metadata": {},
   "outputs": [
    {
     "name": "stdout",
     "output_type": "stream",
     "text": [
      "[[[ 1 13]\n",
      "  [ 2 14]\n",
      "  [ 3 15]\n",
      "  [ 4 16]]\n",
      "\n",
      " [[ 5 17]\n",
      "  [ 6 18]\n",
      "  [ 7 19]\n",
      "  [ 8 20]]\n",
      "\n",
      " [[ 9 21]\n",
      "  [10 22]\n",
      "  [11 23]\n",
      "  [12 24]]]\n"
     ]
    }
   ],
   "source": [
    "import numpy as np\n",
    "array3=np.arange(1,25).reshape(2,3,4)\n",
    "# here 2=0 position,3=1 position,4=2 position\n",
    "print(np.transpose(array3,(1,2,0)))# 3 2d arry,4 row,2 column\n",
    "#for 2d arry axes is (0,1),(1,0)\n",
    "#for 3d array axis is 0,1,2\n",
    "#rule   :np.ranspose(string,axis=(0,1))"
   ]
  },
  {
   "cell_type": "code",
   "execution_count": 12,
   "id": "knowing-forward",
   "metadata": {},
   "outputs": [
    {
     "data": {
      "text/plain": [
       "array([[1, 4, 7],\n",
       "       [2, 5, 8],\n",
       "       [3, 6, 9]])"
      ]
     },
     "execution_count": 12,
     "metadata": {},
     "output_type": "execute_result"
    }
   ],
   "source": [
    "#shortcut of transpose \n",
    "a=np.arange(1,10).reshape(3,3)\n",
    "a.T"
   ]
  },
  {
   "cell_type": "markdown",
   "id": "planned-religious",
   "metadata": {},
   "source": [
    "   # swapaxes(array,axes1,axes2)"
   ]
  },
  {
   "cell_type": "code",
   "execution_count": 16,
   "id": "dried-carol",
   "metadata": {},
   "outputs": [
    {
     "name": "stdout",
     "output_type": "stream",
     "text": [
      "[[1]\n",
      " [2]\n",
      " [3]]\n"
     ]
    }
   ],
   "source": [
    "a=np.array([[1,2,3]])\n",
    "print(np.swapaxes(a,0,1))"
   ]
  },
  {
   "cell_type": "code",
   "execution_count": 18,
   "id": "derived-college",
   "metadata": {},
   "outputs": [
    {
     "name": "stdout",
     "output_type": "stream",
     "text": [
      "[[[ 1  4  7]\n",
      "  [ 2  5  8]\n",
      "  [ 3  6  9]]\n",
      "\n",
      " [[10 13 16]\n",
      "  [11 14 17]\n",
      "  [12 15 18]]]\n"
     ]
    }
   ],
   "source": [
    "#swap axis in three dimension\n",
    "array2=np.array([\n",
    "    [\n",
    "  [1,2,3],\n",
    "  [4,5,6],\n",
    "  [7,8,9]\n",
    "],\n",
    "  [\n",
    "    [10,11,12],\n",
    "    [13,14,15],\n",
    "    [16,17,18]\n",
    "    ]\n",
    "])\n",
    "print(np.swapaxes(array2,2,1))#here we want to swap row and column\n",
    "#for 3d arry 0=nuber of 2d matrix, 1=no of row ,2=no of column"
   ]
  },
  {
   "cell_type": "code",
   "execution_count": null,
   "id": "fifteen-windows",
   "metadata": {},
   "outputs": [],
   "source": []
  }
 ],
 "metadata": {
  "kernelspec": {
   "display_name": "Python 3",
   "language": "python",
   "name": "python3"
  },
  "language_info": {
   "codemirror_mode": {
    "name": "ipython",
    "version": 3
   },
   "file_extension": ".py",
   "mimetype": "text/x-python",
   "name": "python",
   "nbconvert_exporter": "python",
   "pygments_lexer": "ipython3",
   "version": "3.9.2"
  }
 },
 "nbformat": 4,
 "nbformat_minor": 5
}
