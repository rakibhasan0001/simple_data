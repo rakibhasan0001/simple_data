{
 "cells": [
  {
   "cell_type": "markdown",
   "id": "continent-punch",
   "metadata": {},
   "source": [
    "# sliceing a[start:end:step]\n",
    "# sliceing in two dimensional array a[start:end:stop,start:end:stop]\n"
   ]
  },
  {
   "cell_type": "code",
   "execution_count": 1,
   "id": "prerequisite-backing",
   "metadata": {},
   "outputs": [
    {
     "data": {
      "text/plain": [
       "array([[4],\n",
       "       [6]])"
      ]
     },
     "execution_count": 1,
     "metadata": {},
     "output_type": "execute_result"
    }
   ],
   "source": [
    "import numpy as np\n",
    "a=np.array([[1,2],[3,4],[5,6]])\n",
    "a[1:,1:]"
   ]
  },
  {
   "cell_type": "code",
   "execution_count": 2,
   "id": "dense-syracuse",
   "metadata": {},
   "outputs": [
    {
     "data": {
      "text/plain": [
       "array([[ 1,  8],\n",
       "       [ 3,  9],\n",
       "       [ 5, 10]])"
      ]
     },
     "execution_count": 2,
     "metadata": {},
     "output_type": "execute_result"
    }
   ],
   "source": [
    "a=np.array([[1,2,8],[3,4,9],[5,6,10]])\n",
    "a[::,::2]#STEP OCOUR IN COLUMN"
   ]
  },
  {
   "cell_type": "markdown",
   "id": "infectious-charm",
   "metadata": {},
   "source": [
    "THTREE DIMENSIONAL ARRAY SLICEING\n",
    "a[start:end:step,start:end:step,start:end:step]"
   ]
  },
  {
   "cell_type": "code",
   "execution_count": 4,
   "id": "rental-darkness",
   "metadata": {},
   "outputs": [
    {
     "data": {
      "text/plain": [
       "array([[[ 1],\n",
       "        [ 4],\n",
       "        [ 7]],\n",
       "\n",
       "       [[10],\n",
       "        [13],\n",
       "        [16]]])"
      ]
     },
     "execution_count": 4,
     "metadata": {},
     "output_type": "execute_result"
    }
   ],
   "source": [
    "b=[[[1,2,3],\n",
    "    [4,5,6],\n",
    "    [7,8,9]],\n",
    "   \n",
    "   [[10,11,12],\n",
    "    [13,14,15],\n",
    "    [16,17,18]]]\n",
    "c=np.array(b)\n",
    "c[:,:,:1]\n",
    "#c[0]=: means we want two two dimensional matrix\n"
   ]
  },
  {
   "cell_type": "code",
   "execution_count": 5,
   "id": "bacterial-trouble",
   "metadata": {},
   "outputs": [
    {
     "data": {
      "text/plain": [
       "array([[[ 4,  6],\n",
       "        [ 7,  9]],\n",
       "\n",
       "       [[13, 15],\n",
       "        [16, 18]]])"
      ]
     },
     "execution_count": 5,
     "metadata": {},
     "output_type": "execute_result"
    }
   ],
   "source": [
    "c[:,1:,::2]"
   ]
  },
  {
   "cell_type": "code",
   "execution_count": null,
   "id": "floral-gambling",
   "metadata": {},
   "outputs": [],
   "source": []
  }
 ],
 "metadata": {
  "kernelspec": {
   "display_name": "Python 3",
   "language": "python",
   "name": "python3"
  },
  "language_info": {
   "codemirror_mode": {
    "name": "ipython",
    "version": 3
   },
   "file_extension": ".py",
   "mimetype": "text/x-python",
   "name": "python",
   "nbconvert_exporter": "python",
   "pygments_lexer": "ipython3",
   "version": "3.9.2"
  }
 },
 "nbformat": 4,
 "nbformat_minor": 5
}
