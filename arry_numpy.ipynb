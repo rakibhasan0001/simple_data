{
 "cells": [
  {
   "cell_type": "markdown",
   "id": "simplified-istanbul",
   "metadata": {},
   "source": [
    "arry means collection of same datatype \n",
    "list and arry are not same"
   ]
  },
  {
   "cell_type": "raw",
   "id": "precise-jacob",
   "metadata": {},
   "source": [
    "in python we use arry module to create arry\n",
    "but in numpy we use numpy library to make arry\n",
    "use numpy arry to get more functionalities\n"
   ]
  },
  {
   "cell_type": "code",
   "execution_count": null,
   "id": "approximate-booth",
   "metadata": {},
   "outputs": [],
   "source": []
  }
 ],
 "metadata": {
  "kernelspec": {
   "display_name": "Python 3",
   "language": "python",
   "name": "python3"
  },
  "language_info": {
   "codemirror_mode": {
    "name": "ipython",
    "version": 3
   },
   "file_extension": ".py",
   "mimetype": "text/x-python",
   "name": "python",
   "nbconvert_exporter": "python",
   "pygments_lexer": "ipython3",
   "version": "3.9.2"
  }
 },
 "nbformat": 4,
 "nbformat_minor": 5
}
