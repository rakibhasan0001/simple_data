{
 "cells": [
  {
   "cell_type": "code",
   "execution_count": 5,
   "id": "incredible-pierre",
   "metadata": {},
   "outputs": [
    {
     "name": "stdout",
     "output_type": "stream",
     "text": [
      "concatenate : [1 2 3 4 5 0 1 2 3 4]\n",
      "[1. 2. 3. 4. 5. 0. 1. 2. 3. 4.]\n",
      "data stored in c is : [1. 2. 3. 4. 5. 0. 1. 2. 3. 4.]\n"
     ]
    }
   ],
   "source": [
    "import numpy as np\n",
    "# help(np.concatenate)\n",
    "a=np.arange(1,6)\n",
    "b=np.arange(5)\n",
    "print('concatenate :',np.concatenate((a,b)))#use double brakect\n",
    "c=np.zeros(10)\n",
    "print(np.concatenate((a,b),out=c))#out means output\n",
    "print('data stored in c is :',c)\n"
   ]
  },
  {
   "cell_type": "code",
   "execution_count": 12,
   "id": "developmental-romantic",
   "metadata": {},
   "outputs": [
    {
     "name": "stdout",
     "output_type": "stream",
     "text": [
      "concatning (c,d) :\n",
      "  [[1 2]\n",
      " [3 4]\n",
      " [8 9]]\n",
      "concatning with axis 1 : [[1 2 8]\n",
      " [3 4 9]]\n"
     ]
    }
   ],
   "source": [
    "c=np.array([[1,2],[3,4]])\n",
    "d=np.array([[8,9]])\n",
    "print('concatning (c,d) :\\n ',np.concatenate((c,d)))\n",
    "print('concatning with axis 1 :',np.concatenate((c,d.T),axis=1))#axis 1 means columnwise"
   ]
  },
  {
   "cell_type": "markdown",
   "id": "designing-mineral",
   "metadata": {},
   "source": [
    "#                                         vstack function \n",
    "##    vstack function add array vertically\n",
    "##   it behave 1d arry diffrent type and 3d,2d,4d... arry diffrent type\n",
    "##   axis=0 \n"
   ]
  },
  {
   "cell_type": "code",
   "execution_count": 15,
   "id": "working-aggregate",
   "metadata": {},
   "outputs": [
    {
     "name": "stdout",
     "output_type": "stream",
     "text": [
      "using vstack :\n",
      "\n",
      " [[1 2 3 4 5]\n",
      " [0 1 2 3 4]]\n",
      "v stack (c,d) :\n",
      "\n",
      "  [[1 2]\n",
      " [3 4]\n",
      " [8 9]]\n"
     ]
    }
   ],
   "source": [
    "import numpy as np\n",
    "# help(np.concatenate)\n",
    "a=np.arange(1,6)\n",
    "b=np.arange(5)\n",
    "print('using vstack :\\n\\n',np.vstack((a,b)))#use double brakect\n",
    "#it will give two dimensional array\n",
    "\n",
    "# ----------------------------------for 2d array----------------------------------\n",
    "c=np.array([[1,2],[3,4]])\n",
    "d=np.array([[8,9]])\n",
    "print('v stack (c,d) :\\n\\n ',np.vstack((c,d)))\n"
   ]
  },
  {
   "cell_type": "markdown",
   "id": "endless-majority",
   "metadata": {},
   "source": [
    "#                                         hstack function \n",
    "##    hstack function add array horizontally\n",
    "##   it behave 1d arry diffrent type and 3d,2d,4d... arry diffrent type\n",
    "##   axis=1 \n"
   ]
  },
  {
   "cell_type": "code",
   "execution_count": 18,
   "id": "tropical-price",
   "metadata": {},
   "outputs": [
    {
     "name": "stdout",
     "output_type": "stream",
     "text": [
      "using hstack :\n",
      "\n",
      " [1 2 3 4 5 0 1 2 3 4]\n",
      "v stack (c,d.T) :\n",
      "\n",
      "  [[1 2 8]\n",
      " [3 4 9]]\n"
     ]
    }
   ],
   "source": [
    "import numpy as np\n",
    "# help(np.concatenate)\n",
    "a=np.arange(1,6)\n",
    "b=np.arange(5)\n",
    "print('using hstack :\\n\\n',np.hstack((a,b)))#use double brakect\n",
    "\n",
    "\n",
    "# ----------------------------------for 2d array----------------------------------\n",
    "c=np.array([[1,2],[3,4]])\n",
    "d=np.array([[8,9]])\n",
    "print('hstack (c,d.T) :\\n\\n ',np.hstack((c,d.T)))\n"
   ]
  },
  {
   "cell_type": "markdown",
   "id": "warming-omaha",
   "metadata": {},
   "source": [
    "# -----------------------------split,hsplit,vsplit-----------------------------\n",
    "###                   split(array,number of subsection,axis=)"
   ]
  },
  {
   "cell_type": "code",
   "execution_count": 25,
   "id": "chemical-alcohol",
   "metadata": {},
   "outputs": [
    {
     "name": "stdout",
     "output_type": "stream",
     "text": [
      "[array([1, 2, 3]), array([4, 5, 6]), array([7, 8, 9])]\n",
      "hsplit in one dimension : [array([1, 2, 3]), array([4, 5, 6]), array([7, 8, 9])]\n",
      "hsplit in two dimensional array :\n",
      "\n",
      " [array([[1, 2],\n",
      "       [7, 8]]), array([[ 3,  4],\n",
      "       [ 9, 10]]), array([[ 5,  6],\n",
      "       [11, 12]])]\n"
     ]
    }
   ],
   "source": [
    "e=np.arange(1,10)\n",
    "print(np.split(e,3))\n",
    "#reshape and arrange function work at same way\n",
    "#we can also call avobe method as v split method because axis =0\n",
    "print('hsplit in one dimension :',np.hsplit(e,3))\n",
    "\n",
    "\n",
    "f=np.arange(1,13).reshape(2,6)\n",
    "print('hsplit in two dimensional array :\\n\\n',np.hsplit(f,3))"
   ]
  },
  {
   "cell_type": "code",
   "execution_count": null,
   "id": "objective-words",
   "metadata": {},
   "outputs": [],
   "source": []
  }
 ],
 "metadata": {
  "kernelspec": {
   "display_name": "Python 3",
   "language": "python",
   "name": "python3"
  },
  "language_info": {
   "codemirror_mode": {
    "name": "ipython",
    "version": 3
   },
   "file_extension": ".py",
   "mimetype": "text/x-python",
   "name": "python",
   "nbconvert_exporter": "python",
   "pygments_lexer": "ipython3",
   "version": "3.9.2"
  }
 },
 "nbformat": 4,
 "nbformat_minor": 5
}
