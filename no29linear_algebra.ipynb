{
 "cells": [
  {
   "cell_type": "code",
   "execution_count": 3,
   "id": "excellent-portable",
   "metadata": {},
   "outputs": [
    {
     "name": "stdout",
     "output_type": "stream",
     "text": [
      "[2. 3.]\n"
     ]
    }
   ],
   "source": [
    "'''\n",
    "3x+y=9\n",
    "x+2y=8\n",
    "'''\n",
    "import numpy as np\n",
    "a=np.array([[3,1],[1,2]])\n",
    "b=np.array([9,8])\n",
    "print(np.linalg.solve(a,b))"
   ]
  },
  {
   "cell_type": "code",
   "execution_count": 10,
   "id": "wrapped-shape",
   "metadata": {},
   "outputs": [
    {
     "name": "stdout",
     "output_type": "stream",
     "text": [
      "Input array : \n",
      " [0, 1.5707963267948966, 1.0471975511965976, 3.141592653589793]\n",
      "\n",
      "Cosine values : \n",
      " [ 1.000000e+00  6.123234e-17  5.000000e-01 -1.000000e+00]\n"
     ]
    }
   ],
   "source": [
    "# a = np.eye(2*3*4)\n",
    "# a\n",
    "import numpy as np\n",
    "import math\n",
    " \n",
    "in_array = [0, math.pi / 2, np.pi / 3, np.pi]\n",
    "print (\"Input array : \\n\", in_array)\n",
    " \n",
    "cos_Values = np.cos(in_array)\n",
    "print (\"\\nCosine values : \\n\", cos_Values)"
   ]
  },
  {
   "cell_type": "markdown",
   "id": "opened-animal",
   "metadata": {},
   "source": [
    "|FUNCTION||\tDESCRIPTION|\n",
    "|--------||------------|\n",
    "|tan()||\tCompute tangent element-wise.|\n",
    "|arcsin()||\tInverse sine, element-wise.||\n",
    "|arccos()\t||Trigonometric inverse cosine, element-wise.|\n",
    "|arctan()||\tTrigonometric inverse tangent, element-wise.|\n",
    "|arctan2()\t||Element-wise arc tangent of x1/x2 choosing the quadrant correctly.|\n",
    "|degrees()||\tConvert angles from radians to degrees.|\n",
    "|rad2deg()||\tConvert angles from radians to degrees.|\n",
    "|deg2rad\t||Convert angles from degrees to radians.|\n",
    "|radians()\t||Convert angles from degrees to radians.|\n",
    "|hypot()||\tGiven the “legs” of a right triangle, return its hypotenuse.||\n",
    "|unwrap()||\tUnwrap by changing deltas between values to 2*pi complement.||"
   ]
  },
  {
   "cell_type": "code",
   "execution_count": null,
   "id": "soviet-society",
   "metadata": {},
   "outputs": [],
   "source": []
  }
 ],
 "metadata": {
  "kernelspec": {
   "display_name": "Python 3",
   "language": "python",
   "name": "python3"
  },
  "language_info": {
   "codemirror_mode": {
    "name": "ipython",
    "version": 3
   },
   "file_extension": ".py",
   "mimetype": "text/x-python",
   "name": "python",
   "nbconvert_exporter": "python",
   "pygments_lexer": "ipython3",
   "version": "3.9.2"
  }
 },
 "nbformat": 4,
 "nbformat_minor": 5
}
