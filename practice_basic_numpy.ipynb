{
 "cells": [
  {
   "cell_type": "markdown",
   "id": "indirect-bandwidth",
   "metadata": {},
   "source": [
    "# diffrence between list and numpy arrys\n",
    "\n",
    "|nupy arrys                   ||             python list                               |\n",
    "|-----------------------------||---------------------------------|\n",
    "|1.same type of datatype      ||          diffrent type of datatype|\n",
    "|2.mathematical oparation|\n",
    "|is possible                  ||           mathematical oparation is almost impossible|\n",
    "|3.written by c and python    ||            written by c++|\n",
    "|4.faster than list           ||            slower than list|"
   ]
  },
  {
   "cell_type": "code",
   "execution_count": 1,
   "id": "liberal-campaign",
   "metadata": {},
   "outputs": [
    {
     "name": "stdout",
     "output_type": "stream",
     "text": [
      "[1 2 3]\n"
     ]
    }
   ],
   "source": [
    "import numpy as np\n",
    "# help(np.array)\n",
    "a=np.array([1,2,3])\n",
    "print(a)"
   ]
  },
  {
   "cell_type": "code",
   "execution_count": 3,
   "id": "generic-prison",
   "metadata": {},
   "outputs": [
    {
     "data": {
      "text/plain": [
       "array([1.+0.j, 2.+0.j, 3.+0.j])"
      ]
     },
     "execution_count": 3,
     "metadata": {},
     "output_type": "execute_result"
    }
   ],
   "source": [
    "b=np.array([1,2,3],'complex')\n",
    "b"
   ]
  },
  {
   "cell_type": "code",
   "execution_count": 6,
   "id": "amended-russia",
   "metadata": {},
   "outputs": [
    {
     "data": {
      "text/plain": [
       "array([[1, 2, 3],\n",
       "       [4, 8, 9]])"
      ]
     },
     "execution_count": 6,
     "metadata": {},
     "output_type": "execute_result"
    }
   ],
   "source": [
    "c=np.array([[1,2,3],[4,8,9]])#use two thard brakect\n",
    "c"
   ]
  },
  {
   "cell_type": "code",
   "execution_count": 13,
   "id": "exclusive-review",
   "metadata": {},
   "outputs": [
    {
     "name": "stdout",
     "output_type": "stream",
     "text": [
      "[0 1 2 3]\n",
      "b \n",
      " [3 4 5 6 7 8]\n",
      "c \n",
      " [3 5 7 9]\n",
      "d \n",
      " [[3 5]\n",
      " [7 9]]\n"
     ]
    }
   ],
   "source": [
    "a=np.arange(4)\n",
    "print(a)\n",
    "\n",
    "b=np.arange(3,9)\n",
    "print('b \\n',b)\n",
    "\n",
    "c=np.arange(3,10,2)\n",
    "print('c \\n',c)\n",
    "\n",
    "d=np.arange(3,10,2).reshape(2,2)\n",
    "print('d \\n',d)"
   ]
  },
  {
   "cell_type": "markdown",
   "id": "federal-feelings",
   "metadata": {},
   "source": [
    "# zeros function"
   ]
  },
  {
   "cell_type": "code",
   "execution_count": 1,
   "id": "concerned-unemployment",
   "metadata": {},
   "outputs": [
    {
     "data": {
      "text/plain": [
       "array([0., 0., 0., 0., 0.])"
      ]
     },
     "execution_count": 1,
     "metadata": {},
     "output_type": "execute_result"
    }
   ],
   "source": [
    "import numpy as np\n",
    "np.zeros(5)"
   ]
  },
  {
   "cell_type": "code",
   "execution_count": 3,
   "id": "usual-resort",
   "metadata": {},
   "outputs": [
    {
     "data": {
      "text/plain": [
       "array([[0., 0., 0., 0.],\n",
       "       [0., 0., 0., 0.],\n",
       "       [0., 0., 0., 0.]])"
      ]
     },
     "execution_count": 3,
     "metadata": {},
     "output_type": "execute_result"
    }
   ],
   "source": [
    "np.zeros((3,4))"
   ]
  },
  {
   "cell_type": "code",
   "execution_count": 4,
   "id": "norman-vertical",
   "metadata": {
    "scrolled": true
   },
   "outputs": [
    {
     "data": {
      "text/plain": [
       "array([[0., 0., 0., 0., 0., 0.],\n",
       "       [0., 0., 0., 0., 0., 0.],\n",
       "       [0., 0., 0., 0., 0., 0.],\n",
       "       [0., 0., 0., 0., 0., 0.],\n",
       "       [0., 0., 0., 0., 0., 0.]])"
      ]
     },
     "execution_count": 4,
     "metadata": {},
     "output_type": "execute_result"
    }
   ],
   "source": [
    "np.zeros((5,6),order='F')"
   ]
  },
  {
   "cell_type": "code",
   "execution_count": 8,
   "id": "single-lotus",
   "metadata": {},
   "outputs": [
    {
     "data": {
      "text/plain": [
       "array([[0., 0., 0., 0.],\n",
       "       [0., 0., 0., 0.],\n",
       "       [0., 0., 0., 0.]])"
      ]
     },
     "execution_count": 8,
     "metadata": {},
     "output_type": "execute_result"
    }
   ],
   "source": [
    "np.zeros((3,4),order=\"C\")"
   ]
  },
  {
   "cell_type": "code",
   "execution_count": 7,
   "id": "false-power",
   "metadata": {},
   "outputs": [
    {
     "data": {
      "text/plain": [
       "array([[0.+0.j, 0.+0.j],\n",
       "       [0.+0.j, 0.+0.j],\n",
       "       [0.+0.j, 0.+0.j],\n",
       "       [0.+0.j, 0.+0.j]], dtype=complex64)"
      ]
     },
     "execution_count": 7,
     "metadata": {},
     "output_type": "execute_result"
    }
   ],
   "source": [
    "np.zeros((4,2),dtype='F')"
   ]
  },
  {
   "cell_type": "markdown",
   "id": "adverse-client",
   "metadata": {},
   "source": [
    "# ndim , size , shape, itemsize"
   ]
  },
  {
   "cell_type": "code",
   "execution_count": 13,
   "id": "entire-anderson",
   "metadata": {},
   "outputs": [
    {
     "data": {
      "text/plain": [
       "60"
      ]
     },
     "execution_count": 13,
     "metadata": {},
     "output_type": "execute_result"
    }
   ],
   "source": [
    "np.zeros((3,4,5)).size\n",
    "\n",
    "# size = means number of item "
   ]
  },
  {
   "cell_type": "code",
   "execution_count": 14,
   "id": "destroyed-triple",
   "metadata": {},
   "outputs": [
    {
     "data": {
      "text/plain": [
       "4"
      ]
     },
     "execution_count": 14,
     "metadata": {},
     "output_type": "execute_result"
    }
   ],
   "source": [
    "a=np.array([[1,2],[7,8]])\n",
    "a.size"
   ]
  },
  {
   "cell_type": "code",
   "execution_count": 15,
   "id": "short-involvement",
   "metadata": {},
   "outputs": [
    {
     "data": {
      "text/plain": [
       "2"
      ]
     },
     "execution_count": 15,
     "metadata": {},
     "output_type": "execute_result"
    }
   ],
   "source": [
    "a.ndim # number of dimension"
   ]
  },
  {
   "cell_type": "code",
   "execution_count": 16,
   "id": "terminal-strengthening",
   "metadata": {},
   "outputs": [
    {
     "data": {
      "text/plain": [
       "4"
      ]
     },
     "execution_count": 16,
     "metadata": {},
     "output_type": "execute_result"
    }
   ],
   "source": [
    "a.itemsize #number of byte it consume"
   ]
  },
  {
   "cell_type": "code",
   "execution_count": 17,
   "id": "acute-trick",
   "metadata": {},
   "outputs": [
    {
     "data": {
      "text/plain": [
       "8"
      ]
     },
     "execution_count": 17,
     "metadata": {},
     "output_type": "execute_result"
    }
   ],
   "source": [
    "np.zeros((3,4,5)).itemsize"
   ]
  },
  {
   "cell_type": "code",
   "execution_count": 18,
   "id": "expensive-screening",
   "metadata": {},
   "outputs": [
    {
     "data": {
      "text/plain": [
       "(3, 4, 5)"
      ]
     },
     "execution_count": 18,
     "metadata": {},
     "output_type": "execute_result"
    }
   ],
   "source": [
    "np.zeros((3,4,5)).shape"
   ]
  },
  {
   "cell_type": "code",
   "execution_count": 19,
   "id": "quiet-privacy",
   "metadata": {},
   "outputs": [
    {
     "data": {
      "text/plain": [
       "(2, 2)"
      ]
     },
     "execution_count": 19,
     "metadata": {},
     "output_type": "execute_result"
    }
   ],
   "source": [
    "a.shape"
   ]
  },
  {
   "cell_type": "markdown",
   "id": "engaged-population",
   "metadata": {},
   "source": [
    "# one functoion ,dtype"
   ]
  },
  {
   "cell_type": "code",
   "execution_count": 21,
   "id": "shared-tackle",
   "metadata": {},
   "outputs": [
    {
     "data": {
      "text/plain": [
       "array([1., 1., 1., 1.])"
      ]
     },
     "execution_count": 21,
     "metadata": {},
     "output_type": "execute_result"
    }
   ],
   "source": [
    "np.ones(4)"
   ]
  },
  {
   "cell_type": "code",
   "execution_count": 23,
   "id": "lightweight-integral",
   "metadata": {},
   "outputs": [
    {
     "data": {
      "text/plain": [
       "dtype('float64')"
      ]
     },
     "execution_count": 23,
     "metadata": {},
     "output_type": "execute_result"
    }
   ],
   "source": [
    "np.ones(7).dtype"
   ]
  },
  {
   "cell_type": "code",
   "execution_count": 25,
   "id": "pediatric-retreat",
   "metadata": {},
   "outputs": [
    {
     "data": {
      "text/plain": [
       "dtype('int32')"
      ]
     },
     "execution_count": 25,
     "metadata": {},
     "output_type": "execute_result"
    }
   ],
   "source": [
    "np.ones(6,dtype='int').dtype"
   ]
  },
  {
   "cell_type": "markdown",
   "id": "extended-mechanism",
   "metadata": {},
   "source": [
    "# linespace fucttion"
   ]
  },
  {
   "cell_type": "code",
   "execution_count": 26,
   "id": "sized-overhead",
   "metadata": {},
   "outputs": [
    {
     "data": {
      "text/plain": [
       "array([2.        , 2.02040816, 2.04081633, 2.06122449, 2.08163265,\n",
       "       2.10204082, 2.12244898, 2.14285714, 2.16326531, 2.18367347,\n",
       "       2.20408163, 2.2244898 , 2.24489796, 2.26530612, 2.28571429,\n",
       "       2.30612245, 2.32653061, 2.34693878, 2.36734694, 2.3877551 ,\n",
       "       2.40816327, 2.42857143, 2.44897959, 2.46938776, 2.48979592,\n",
       "       2.51020408, 2.53061224, 2.55102041, 2.57142857, 2.59183673,\n",
       "       2.6122449 , 2.63265306, 2.65306122, 2.67346939, 2.69387755,\n",
       "       2.71428571, 2.73469388, 2.75510204, 2.7755102 , 2.79591837,\n",
       "       2.81632653, 2.83673469, 2.85714286, 2.87755102, 2.89795918,\n",
       "       2.91836735, 2.93877551, 2.95918367, 2.97959184, 3.        ])"
      ]
     },
     "execution_count": 26,
     "metadata": {},
     "output_type": "execute_result"
    }
   ],
   "source": [
    "np.linspace(2,3)"
   ]
  },
  {
   "cell_type": "code",
   "execution_count": 27,
   "id": "coral-designation",
   "metadata": {},
   "outputs": [
    {
     "data": {
      "text/plain": [
       "array([2.  , 2.25, 2.5 , 2.75, 3.  ])"
      ]
     },
     "execution_count": 27,
     "metadata": {},
     "output_type": "execute_result"
    }
   ],
   "source": [
    "np.linspace(2,3,5)"
   ]
  },
  {
   "cell_type": "code",
   "execution_count": 29,
   "id": "careful-sharp",
   "metadata": {},
   "outputs": [
    {
     "data": {
      "text/plain": [
       "array([2. , 2.2, 2.4, 2.6, 2.8])"
      ]
     },
     "execution_count": 29,
     "metadata": {},
     "output_type": "execute_result"
    }
   ],
   "source": [
    "np.linspace(2,3,5,endpoint=False)"
   ]
  },
  {
   "cell_type": "code",
   "execution_count": 30,
   "id": "critical-equation",
   "metadata": {},
   "outputs": [
    {
     "data": {
      "text/plain": [
       "array([2. , 2.5, 3. , 3.5, 4. ])"
      ]
     },
     "execution_count": 30,
     "metadata": {},
     "output_type": "execute_result"
    }
   ],
   "source": [
    "np.linspace(2,4,5,endpoint=True)"
   ]
  },
  {
   "cell_type": "markdown",
   "id": "senior-capitol",
   "metadata": {},
   "source": [
    "# Eye Function"
   ]
  },
  {
   "cell_type": "code",
   "execution_count": 31,
   "id": "operating-kingdom",
   "metadata": {},
   "outputs": [
    {
     "data": {
      "text/plain": [
       "array([[0., 1., 0.],\n",
       "       [0., 0., 1.]])"
      ]
     },
     "execution_count": 31,
     "metadata": {},
     "output_type": "execute_result"
    }
   ],
   "source": [
    "np.eye(2, 3, k = 1)"
   ]
  },
  {
   "cell_type": "code",
   "execution_count": 32,
   "id": "olympic-preserve",
   "metadata": {},
   "outputs": [
    {
     "data": {
      "text/plain": [
       "array([[1., 0., 0., 0.],\n",
       "       [0., 1., 0., 0.],\n",
       "       [0., 0., 1., 0.],\n",
       "       [0., 0., 0., 1.]])"
      ]
     },
     "execution_count": 32,
     "metadata": {},
     "output_type": "execute_result"
    }
   ],
   "source": [
    "np.eye(4)"
   ]
  },
  {
   "cell_type": "code",
   "execution_count": 33,
   "id": "horizontal-bullet",
   "metadata": {},
   "outputs": [
    {
     "data": {
      "text/plain": [
       "array([[0., 1., 0., 0.],\n",
       "       [0., 0., 1., 0.],\n",
       "       [0., 0., 0., 1.],\n",
       "       [0., 0., 0., 0.]])"
      ]
     },
     "execution_count": 33,
     "metadata": {},
     "output_type": "execute_result"
    }
   ],
   "source": [
    "np.eye(4,k=1)  # k=1 last 1 row is zero"
   ]
  },
  {
   "cell_type": "code",
   "execution_count": 34,
   "id": "billion-worthy",
   "metadata": {},
   "outputs": [
    {
     "data": {
      "text/plain": [
       "array([[0., 0., 0., 0., 0.],\n",
       "       [0., 0., 0., 0., 0.],\n",
       "       [1., 0., 0., 0., 0.],\n",
       "       [0., 1., 0., 0., 0.],\n",
       "       [0., 0., 1., 0., 0.]])"
      ]
     },
     "execution_count": 34,
     "metadata": {},
     "output_type": "execute_result"
    }
   ],
   "source": [
    "np.eye(5,k=-2)# k=-2 first 2 row"
   ]
  },
  {
   "cell_type": "markdown",
   "id": "brilliant-century",
   "metadata": {},
   "source": [
    "#here we are study \n",
    "# 1.rand\n",
    "# 2.randn\n",
    "# 3.ranf\n",
    "# 4.randint"
   ]
  },
  {
   "cell_type": "code",
   "execution_count": 37,
   "id": "seasonal-parking",
   "metadata": {},
   "outputs": [
    {
     "data": {
      "image/png": "[encoded data removed]",
      "text/plain": [
       "<Figure size 432x288 with 1 Axes>"
      ]
     },
     "metadata": {
      "needs_background": "light"
     },
     "output_type": "display_data"
    }
   ],
   "source": [
    "# import choice\n",
    "import numpy as np\n",
    "import matplotlib.pyplot as plt\n",
    "\n",
    "# Using choice() method\n",
    "gfg = np.random.choice(13, 5000)\n",
    "\n",
    "count, bins, ignored = plt.hist(gfg, 25, density = True)\n",
    "plt.show()\n"
   ]
  },
  {
   "cell_type": "code",
   "execution_count": 38,
   "id": "grave-henry",
   "metadata": {},
   "outputs": [
    {
     "data": {
      "text/plain": [
       "array([10, 12,  5,  0, 10,  7,  0,  1,  6,  6,  2,  6,  1,  5,  4,  1, 10,\n",
       "        1,  7, 11,  4,  4, 10,  2,  8,  9, 10,  1,  9,  6,  4, 10,  9,  4,\n",
       "        0,  4, 10,  2,  4, 11, 10,  6, 12,  1,  5, 10,  1,  2,  7,  7])"
      ]
     },
     "execution_count": 38,
     "metadata": {},
     "output_type": "execute_result"
    }
   ],
   "source": [
    " np.random.choice(13, 50) # 50 NUMBERS LESS THAN 30"
   ]
  },
  {
   "cell_type": "code",
   "execution_count": 39,
   "id": "ignored-reader",
   "metadata": {},
   "outputs": [
    {
     "data": {
      "text/plain": [
       "array([[0.40749841, 0.82842866, 0.21721597, 0.89855851],\n",
       "       [0.24949233, 0.86756048, 0.86575999, 0.72674966],\n",
       "       [0.86916107, 0.5243635 , 0.73951864, 0.90476248]])"
      ]
     },
     "execution_count": 39,
     "metadata": {},
     "output_type": "execute_result"
    }
   ],
   "source": [
    "np.random.rand(3,4)"
   ]
  },
  {
   "cell_type": "code",
   "execution_count": 41,
   "id": "fossil-maria",
   "metadata": {},
   "outputs": [
    {
     "data": {
      "text/plain": [
       "67"
      ]
     },
     "execution_count": 41,
     "metadata": {},
     "output_type": "execute_result"
    }
   ],
   "source": [
    "np.random.randint(5,90)"
   ]
  },
  {
   "cell_type": "code",
   "execution_count": 43,
   "id": "comparable-experience",
   "metadata": {},
   "outputs": [
    {
     "data": {
      "text/plain": [
       "array([[18,  0, 11, 17,  0],\n",
       "       [17,  2, 14, 15,  1],\n",
       "       [19, 19,  6,  8,  0],\n",
       "       [ 2, 14, 19, 17,  5]])"
      ]
     },
     "execution_count": 43,
     "metadata": {},
     "output_type": "execute_result"
    }
   ],
   "source": [
    "np.random.randint(20,size=(4,5))"
   ]
  },
  {
   "cell_type": "code",
   "execution_count": 49,
   "id": "raised-jurisdiction",
   "metadata": {},
   "outputs": [
    {
     "name": "stdout",
     "output_type": "stream",
     "text": [
      "(array([1., 1., 1.]), array([3.        , 3.66666667, 4.33333333, 5.        ]), <BarContainer object of 3 artists>)\n",
      "(array([1., 0., 0., 0., 0., 1., 0., 0., 0., 1.]), array([3. , 3.2, 3.4, 3.6, 3.8, 4. , 4.2, 4.4, 4.6, 4.8, 5. ]), <BarContainer object of 10 artists>)\n"
     ]
    },
    {
     "data": {
      "image/png": "[encoded data removed]",
      "text/plain": [
       "<Figure size 432x288 with 1 Axes>"
      ]
     },
     "metadata": {
      "needs_background": "light"
     },
     "output_type": "display_data"
    }
   ],
   "source": [
    "a=[3,4,5]\n",
    "print(plt.hist(a,3))\n",
    "print(plt.hist(a))"
   ]
  },
  {
   "cell_type": "code",
   "execution_count": 50,
   "id": "variable-lambda",
   "metadata": {},
   "outputs": [
    {
     "data": {
      "image/png": "[encoded data removed]",
      "text/plain": [
       "<Figure size 432x288 with 1 Axes>"
      ]
     },
     "metadata": {
      "needs_background": "light"
     },
     "output_type": "display_data"
    }
   ],
   "source": [
    "import numpy as np\n",
    "import matplotlib.pyplot as plt\n",
    "\n",
    "# Fixing random state for reproducibility\n",
    "np.random.seed(19680801)\n",
    "\n",
    "mu, sigma = 100, 15\n",
    "x = mu + sigma * np.random.randn(10000)\n",
    "\n",
    "# the histogram of the data\n",
    "n, bins, patches = plt.hist(x, 50, density=True, facecolor='g', alpha=0.75)\n",
    "\n",
    "\n",
    "plt.xlabel('Smarts')\n",
    "plt.ylabel('Probability')\n",
    "plt.title('Histogram of IQ')\n",
    "plt.text(60, .025, r'$\\mu=100,\\ \\sigma=15$')\n",
    "plt.xlim(40, 160)\n",
    "plt.ylim(0, 0.03)\n",
    "plt.grid(True)\n",
    "plt.show()"
   ]
  },
  {
   "cell_type": "markdown",
   "id": "subjective-albert",
   "metadata": {},
   "source": [
    "# indexing option"
   ]
  },
  {
   "cell_type": "code",
   "execution_count": 52,
   "id": "broken-appreciation",
   "metadata": {},
   "outputs": [
    {
     "data": {
      "text/plain": [
       "5"
      ]
     },
     "execution_count": 52,
     "metadata": {},
     "output_type": "execute_result"
    }
   ],
   "source": [
    "a=np.array([[1,2,3],[4,5,5]])\n",
    "a[1][2]"
   ]
  },
  {
   "cell_type": "code",
   "execution_count": 53,
   "id": "absent-empire",
   "metadata": {},
   "outputs": [
    {
     "data": {
      "text/plain": [
       "17"
      ]
     },
     "execution_count": 53,
     "metadata": {},
     "output_type": "execute_result"
    }
   ],
   "source": [
    "#three dimensional indexing\n",
    "# three dimensional array = a[number of 2d array][row][column]\n",
    "import numpy as np\n",
    "b=[[[1,2,3],\n",
    "    [4,5,6],\n",
    "    [7,8,9]],\n",
    "   [[10,11,12],\n",
    "    [13,14,15],\n",
    "    [16,17,18]]]\n",
    "c=np.array(b)\n",
    "c[1][2][1]"
   ]
  },
  {
   "cell_type": "markdown",
   "id": "cheap-italy",
   "metadata": {},
   "source": [
    "# sliceing a[start:end:step]\n",
    "# sliceing in two dimensional array a[start:end:stop,start:end:stop]\n"
   ]
  },
  {
   "cell_type": "code",
   "execution_count": 5,
   "id": "french-intersection",
   "metadata": {},
   "outputs": [
    {
     "data": {
      "text/plain": [
       "array([[3, 4],\n",
       "       [5, 6],\n",
       "       [7, 8]])"
      ]
     },
     "execution_count": 5,
     "metadata": {},
     "output_type": "execute_result"
    }
   ],
   "source": [
    "import numpy as np\n",
    "a=np.array([[1,2],[3,4],[5,6],[7,8]])\n",
    "a[1:,0:]"
   ]
  },
  {
   "cell_type": "code",
   "execution_count": 6,
   "id": "official-computer",
   "metadata": {},
   "outputs": [
    {
     "data": {
      "text/plain": [
       "array([[4],\n",
       "       [6],\n",
       "       [8]])"
      ]
     },
     "execution_count": 6,
     "metadata": {},
     "output_type": "execute_result"
    }
   ],
   "source": [
    "import numpy as np\n",
    "a=np.array([[1,2],[3,4],[5,6],[7,8]])\n",
    "a[1:,1:]"
   ]
  },
  {
   "cell_type": "code",
   "execution_count": 7,
   "id": "rural-evans",
   "metadata": {},
   "outputs": [
    {
     "data": {
      "text/plain": [
       "array([[1, 2],\n",
       "       [3, 4],\n",
       "       [5, 6],\n",
       "       [7, 8]])"
      ]
     },
     "execution_count": 7,
     "metadata": {},
     "output_type": "execute_result"
    }
   ],
   "source": [
    "import numpy as np\n",
    "a=np.array([[1,2],[3,4],[5,6],[7,8]])\n",
    "a[0:,0:]"
   ]
  },
  {
   "cell_type": "code",
   "execution_count": 8,
   "id": "rubber-andorra",
   "metadata": {},
   "outputs": [
    {
     "data": {
      "text/plain": [
       "array([[ 1,  8],\n",
       "       [ 3,  9],\n",
       "       [ 5, 10]])"
      ]
     },
     "execution_count": 8,
     "metadata": {},
     "output_type": "execute_result"
    }
   ],
   "source": [
    "a=np.array([[1,2,8],[3,4,9],[5,6,10]])\n",
    "a[::,::2]#STEP OCOUR IN COLUMN"
   ]
  },
  {
   "cell_type": "code",
   "execution_count": 9,
   "id": "major-position",
   "metadata": {},
   "outputs": [
    {
     "data": {
      "text/plain": [
       "array([[2],\n",
       "       [4],\n",
       "       [6]])"
      ]
     },
     "execution_count": 9,
     "metadata": {},
     "output_type": "execute_result"
    }
   ],
   "source": [
    "a=np.array([[1,2,8],[3,4,9],[5,6,10]])\n",
    "a[::,1::2]"
   ]
  },
  {
   "cell_type": "code",
   "execution_count": 11,
   "id": "specific-blackberry",
   "metadata": {},
   "outputs": [
    {
     "data": {
      "text/plain": [
       "array([[ 1,  2,  8],\n",
       "       [ 5,  6, 10]])"
      ]
     },
     "execution_count": 11,
     "metadata": {},
     "output_type": "execute_result"
    }
   ],
   "source": [
    "a=np.array([[1,2,8],[3,4,9],[5,6,10]])\n",
    "a[::2]"
   ]
  },
  {
   "cell_type": "code",
   "execution_count": 12,
   "id": "hispanic-quantum",
   "metadata": {},
   "outputs": [
    {
     "data": {
      "text/plain": [
       "array([[1, 2, 8]])"
      ]
     },
     "execution_count": 12,
     "metadata": {},
     "output_type": "execute_result"
    }
   ],
   "source": [
    "a=np.array([[1,2,8],[3,4,9],[5,6,10]])\n",
    "a[0:1]"
   ]
  },
  {
   "cell_type": "code",
   "execution_count": 13,
   "id": "manual-naples",
   "metadata": {},
   "outputs": [
    {
     "data": {
      "text/plain": [
       "array([[ 3,  4,  9],\n",
       "       [ 5,  6, 10]])"
      ]
     },
     "execution_count": 13,
     "metadata": {},
     "output_type": "execute_result"
    }
   ],
   "source": [
    "a=np.array([[1,2,8],[3,4,9],[5,6,10]])\n",
    "a[1:]"
   ]
  },
  {
   "cell_type": "code",
   "execution_count": 14,
   "id": "designing-statistics",
   "metadata": {},
   "outputs": [],
   "source": [
    "b=[[[1,2,3],\n",
    "    [4,5,6],\n",
    "    [7,8,9]],\n",
    "   \n",
    "   [[10,11,12],\n",
    "    [13,14,15],\n",
    "    [16,17,18]]]\n",
    "c=np.array(b)"
   ]
  },
  {
   "cell_type": "code",
   "execution_count": 15,
   "id": "elect-arnold",
   "metadata": {},
   "outputs": [
    {
     "data": {
      "text/plain": [
       "array([[[ 1],\n",
       "        [ 4],\n",
       "        [ 7]],\n",
       "\n",
       "       [[10],\n",
       "        [13],\n",
       "        [16]]])"
      ]
     },
     "execution_count": 15,
     "metadata": {},
     "output_type": "execute_result"
    }
   ],
   "source": [
    "c[:,:,:1]"
   ]
  },
  {
   "cell_type": "code",
   "execution_count": 17,
   "id": "beautiful-teacher",
   "metadata": {},
   "outputs": [
    {
     "data": {
      "text/plain": [
       "array([[[ 1,  2,  3],\n",
       "        [ 4,  5,  6],\n",
       "        [ 7,  8,  9]],\n",
       "\n",
       "       [[10, 11, 12],\n",
       "        [13, 14, 15],\n",
       "        [16, 17, 18]]])"
      ]
     },
     "execution_count": 17,
     "metadata": {},
     "output_type": "execute_result"
    }
   ],
   "source": [
    "c[0:,:,:]"
   ]
  },
  {
   "cell_type": "code",
   "execution_count": 19,
   "id": "supposed-satin",
   "metadata": {},
   "outputs": [
    {
     "data": {
      "text/plain": [
       "array([[[13, 14, 15],\n",
       "        [16, 17, 18]]])"
      ]
     },
     "execution_count": 19,
     "metadata": {},
     "output_type": "execute_result"
    }
   ],
   "source": [
    "c[1:,1:,:]"
   ]
  },
  {
   "cell_type": "code",
   "execution_count": 22,
   "id": "spoken-budapest",
   "metadata": {},
   "outputs": [
    {
     "data": {
      "text/plain": [
       "array([[[ 5,  6],\n",
       "        [ 8,  9]],\n",
       "\n",
       "       [[14, 15],\n",
       "        [17, 18]]])"
      ]
     },
     "execution_count": 22,
     "metadata": {},
     "output_type": "execute_result"
    }
   ],
   "source": [
    "c[0:,1:,1:]"
   ]
  },
  {
   "cell_type": "markdown",
   "id": "athletic-camera",
   "metadata": {},
   "source": [
    "# [number of array ,row, inside row column]"
   ]
  },
  {
   "cell_type": "markdown",
   "id": "rapid-projector",
   "metadata": {},
   "source": [
    "# --------------ADVANCE SLICEING--------------"
   ]
  },
  {
   "cell_type": "code",
   "execution_count": 23,
   "id": "cross-delicious",
   "metadata": {},
   "outputs": [
    {
     "data": {
      "text/plain": [
       "array([33, 34, 38])"
      ]
     },
     "execution_count": 23,
     "metadata": {},
     "output_type": "execute_result"
    }
   ],
   "source": [
    "import numpy as np\n",
    "a=np.arange(30,40)\n",
    "a[[3,4,8]]"
   ]
  },
  {
   "cell_type": "code",
   "execution_count": 24,
   "id": "standing-spring",
   "metadata": {},
   "outputs": [
    {
     "data": {
      "text/plain": [
       "array([33, 37, 38])"
      ]
     },
     "execution_count": 24,
     "metadata": {},
     "output_type": "execute_result"
    }
   ],
   "source": [
    "# MAKING INDEX\n",
    "index=np.array([3,7,8])\n",
    "a[index]"
   ]
  },
  {
   "cell_type": "code",
   "execution_count": 25,
   "id": "economic-intelligence",
   "metadata": {},
   "outputs": [
    {
     "name": "stdout",
     "output_type": "stream",
     "text": [
      "[[1 2 3]\n",
      " [4 5 6]\n",
      " [7 8 9]]\n"
     ]
    },
    {
     "data": {
      "text/plain": [
       "array([3, 7])"
      ]
     },
     "execution_count": 25,
     "metadata": {},
     "output_type": "execute_result"
    }
   ],
   "source": [
    "b=np.array([[1,2,3],[4,5,6],[7,8,9]])\n",
    "print(b)\n",
    "#we wand to get 3, and 7\n",
    "#b[[row,row],[column,column]]\n",
    "b[[0,2],[2,0]]"
   ]
  },
  {
   "cell_type": "code",
   "execution_count": 26,
   "id": "closed-context",
   "metadata": {},
   "outputs": [
    {
     "data": {
      "text/plain": [
       "array([6, 7, 8, 9])"
      ]
     },
     "execution_count": 26,
     "metadata": {},
     "output_type": "execute_result"
    }
   ],
   "source": [
    "b[b>5]"
   ]
  },
  {
   "cell_type": "code",
   "execution_count": 27,
   "id": "false-academy",
   "metadata": {},
   "outputs": [
    {
     "data": {
      "text/plain": [
       "array([42, 49, 56, 63])"
      ]
     },
     "execution_count": 27,
     "metadata": {},
     "output_type": "execute_result"
    }
   ],
   "source": [
    "b[b>5]*7"
   ]
  },
  {
   "cell_type": "code",
   "execution_count": 28,
   "id": "affiliated-rider",
   "metadata": {},
   "outputs": [
    {
     "data": {
      "text/plain": [
       "array([11,  4,  6, 14])"
      ]
     },
     "execution_count": 28,
     "metadata": {},
     "output_type": "execute_result"
    }
   ],
   "source": [
    "import numpy as np\n",
    "a=np.arange(1,5)#[1,2,3,4]\n",
    "b=np.array([10,2,3,10])\n",
    "a+b"
   ]
  },
  {
   "cell_type": "code",
   "execution_count": 29,
   "id": "valid-serial",
   "metadata": {},
   "outputs": [
    {
     "data": {
      "text/plain": [
       "array([-9,  0,  0, -6])"
      ]
     },
     "execution_count": 29,
     "metadata": {},
     "output_type": "execute_result"
    }
   ],
   "source": [
    "import numpy as np\n",
    "a=np.arange(1,5)\n",
    "b=np.array([10,2,3,10])\n",
    "np.subtract(a,b)"
   ]
  },
  {
   "cell_type": "code",
   "execution_count": 30,
   "id": "accepting-applicant",
   "metadata": {},
   "outputs": [
    {
     "data": {
      "text/plain": [
       "array([[11, 13, 15],\n",
       "       [17, 19, 21],\n",
       "       [23, 25, 27]])"
      ]
     },
     "execution_count": 30,
     "metadata": {},
     "output_type": "execute_result"
    }
   ],
   "source": [
    "c=np.array([[1,2,3],[4,5,6],[7,8,9]])\n",
    "d=np.array([[10,11,12],[13,14,15],[16,17,18]])\n",
    "c+d"
   ]
  },
  {
   "cell_type": "markdown",
   "id": "urban-reliance",
   "metadata": {},
   "source": [
    "# it is is arry with diffrent size of array\n",
    "# broadcusting rule:\n",
    "#     1:dimension of two element is same\n",
    "#         2:SIZE OF ONE DIMENSION SHOULD BE 1"
   ]
  },
  {
   "cell_type": "code",
   "execution_count": 31,
   "id": "frozen-winter",
   "metadata": {},
   "outputs": [
    {
     "name": "stdout",
     "output_type": "stream",
     "text": [
      "shape of a : (3, 3)\n",
      "size of a : 9\n",
      "shape of b : (1, 3)\n",
      "size of b : 3\n",
      "a+b result :\n",
      " [[11 22 33]\n",
      " [14 25 36]\n",
      " [17 28 39]]\n"
     ]
    }
   ],
   "source": [
    "import numpy as np\n",
    "a=np.array([[1,2,3],[4,5,6],[7,8,9]])\n",
    "b=np.array([[10,20,30]])\n",
    "print('shape of a :',a.shape)\n",
    "print('size of a :',a.size)\n",
    "print('shape of b :',b.shape)\n",
    "print('size of b :',b.size)\n",
    "print('a+b result :\\n',a+b)\n",
    "# if both column is same then broadcasting is possible shape should be (1,n)"
   ]
  },
  {
   "cell_type": "markdown",
   "id": "impressive-decade",
   "metadata": {},
   "source": [
    "# # reshape function can't change data it just give a new structure.reshape(array,shape,order='c' or 'F')\n",
    "# resize change the data it repeat it own matrix value"
   ]
  },
  {
   "cell_type": "code",
   "execution_count": 38,
   "id": "engaging-wallpaper",
   "metadata": {},
   "outputs": [
    {
     "data": {
      "text/plain": [
       "array([[ 1,  2,  3,  4,  5],\n",
       "       [ 6,  7,  8,  9, 10]])"
      ]
     },
     "execution_count": 38,
     "metadata": {},
     "output_type": "execute_result"
    }
   ],
   "source": [
    "a=np.arange(1,11)\n",
    "b=np.reshape(a,(2,5))\n",
    "b"
   ]
  },
  {
   "cell_type": "code",
   "execution_count": 44,
   "id": "proved-forest",
   "metadata": {},
   "outputs": [
    {
     "data": {
      "text/plain": [
       "array([[ 1,  2,  3,  4,  5],\n",
       "       [ 6,  7,  8,  9, 10]])"
      ]
     },
     "execution_count": 44,
     "metadata": {},
     "output_type": "execute_result"
    }
   ],
   "source": [
    "b"
   ]
  },
  {
   "cell_type": "code",
   "execution_count": 40,
   "id": "apparent-polymer",
   "metadata": {},
   "outputs": [
    {
     "data": {
      "text/plain": [
       "array([[ 1,  2,  3,  4,  5],\n",
       "       [ 6,  7,  8,  9, 10]])"
      ]
     },
     "execution_count": 40,
     "metadata": {},
     "output_type": "execute_result"
    }
   ],
   "source": [
    "a=np.arange(1,11)\n",
    "b=np.resize(a,(2,5))\n",
    "b"
   ]
  },
  {
   "cell_type": "code",
   "execution_count": 43,
   "id": "frequent-buffalo",
   "metadata": {},
   "outputs": [
    {
     "data": {
      "text/plain": [
       "array([[ 1,  2,  3,  4,  5],\n",
       "       [ 6,  7,  8,  9, 10]])"
      ]
     },
     "execution_count": 43,
     "metadata": {},
     "output_type": "execute_result"
    }
   ],
   "source": [
    "b"
   ]
  },
  {
   "cell_type": "code",
   "execution_count": 42,
   "id": "tough-throat",
   "metadata": {},
   "outputs": [
    {
     "name": "stdout",
     "output_type": "stream",
     "text": [
      "Original array:\n"
     ]
    },
    {
     "data": {
      "text/plain": [
       "array([1, 2, 3, 4, 5, 6])"
      ]
     },
     "metadata": {},
     "output_type": "display_data"
    },
    {
     "name": "stdout",
     "output_type": "stream",
     "text": [
      "Changed array\n"
     ]
    },
    {
     "data": {
      "text/plain": [
       "array([[1, 2, 3],\n",
       "       [4, 5, 6]])"
      ]
     },
     "metadata": {},
     "output_type": "display_data"
    },
    {
     "name": "stdout",
     "output_type": "stream",
     "text": [
      "Original array:\n"
     ]
    },
    {
     "data": {
      "text/plain": [
       "array([1, 2, 3, 4, 5, 6])"
      ]
     },
     "metadata": {},
     "output_type": "display_data"
    }
   ],
   "source": [
    "# importing the module\n",
    "import numpy as np\n",
    "\t\n",
    "# creating an array\n",
    "gfg = np.array([1, 2, 3, 4, 5, 6])\n",
    "print(\"Original array:\")\n",
    "display(gfg)\n",
    "\n",
    "# using reshape()\n",
    "print(\"Changed array\")\n",
    "display(gfg.reshape(2, 3))\n",
    "\t\n",
    "print(\"Original array:\")\n",
    "display(gfg)\n"
   ]
  },
  {
   "cell_type": "code",
   "execution_count": 45,
   "id": "little-luxembourg",
   "metadata": {},
   "outputs": [
    {
     "name": "stdout",
     "output_type": "stream",
     "text": [
      "Original array:\n"
     ]
    },
    {
     "data": {
      "text/plain": [
       "array([1, 2, 3, 4, 5, 6])"
      ]
     },
     "metadata": {},
     "output_type": "display_data"
    },
    {
     "name": "stdout",
     "output_type": "stream",
     "text": [
      "Changed array\n"
     ]
    },
    {
     "data": {
      "text/plain": [
       "None"
      ]
     },
     "metadata": {},
     "output_type": "display_data"
    },
    {
     "name": "stdout",
     "output_type": "stream",
     "text": [
      "Original array:\n"
     ]
    },
    {
     "data": {
      "text/plain": [
       "array([[1, 2, 3],\n",
       "       [4, 5, 6]])"
      ]
     },
     "metadata": {},
     "output_type": "display_data"
    }
   ],
   "source": [
    "# importing the module\n",
    "import numpy as np\n",
    "\t\n",
    "# creating an array\n",
    "gfg = np.array([1, 2, 3, 4, 5, 6])\n",
    "print(\"Original array:\")\n",
    "display(gfg)\n",
    "\n",
    "# using resize()\n",
    "print(\"Changed array\")\n",
    "# this will print nothing as None is returned\n",
    "display(gfg.resize(2, 3))\n",
    "\t\n",
    "print(\"Original array:\")\n",
    "display(gfg)\n"
   ]
  },
  {
   "cell_type": "markdown",
   "id": "accredited-system",
   "metadata": {},
   "source": [
    "# flatten and revel cope matrix ,flatten cope row wise ,reval cope column wise"
   ]
  },
  {
   "cell_type": "code",
   "execution_count": 46,
   "id": "spiritual-sapphire",
   "metadata": {},
   "outputs": [
    {
     "name": "stderr",
     "output_type": "stream",
     "text": [
      "<ipython-input-46-6b7b73d61f98>:1: VisibleDeprecationWarning: Creating an ndarray from ragged nested sequences (which is a list-or-tuple of lists-or-tuples-or ndarrays with different lengths or shapes) is deprecated. If you meant to do this, you must specify 'dtype=object' when creating the ndarray.\n",
      "  a=np.array([[1,2,3],[4,5,6],[[7,8,9]]])\n"
     ]
    },
    {
     "data": {
      "text/plain": [
       "array([list([1, 2, 3]), list([4, 5, 6]), list([[7, 8, 9]])], dtype=object)"
      ]
     },
     "execution_count": 46,
     "metadata": {},
     "output_type": "execute_result"
    }
   ],
   "source": [
    "a=np.array([[1,2,3],[4,5,6],[[7,8,9]]])\n",
    "a.flatten()"
   ]
  },
  {
   "cell_type": "code",
   "execution_count": 47,
   "id": "surgical-brighton",
   "metadata": {},
   "outputs": [
    {
     "data": {
      "text/plain": [
       "array([list([1, 2, 3]), list([4, 5, 6]), list([[7, 8, 9]])], dtype=object)"
      ]
     },
     "execution_count": 47,
     "metadata": {},
     "output_type": "execute_result"
    }
   ],
   "source": [
    "a.flatten(order='F')"
   ]
  },
  {
   "cell_type": "code",
   "execution_count": 48,
   "id": "described-textbook",
   "metadata": {},
   "outputs": [
    {
     "name": "stdout",
     "output_type": "stream",
     "text": [
      "a.fletten \n",
      " [1 2 3 4 5 6 7 8 9]\n",
      "a.fletten order= \n",
      " [1 4 7 2 5 8 3 6 9]\n"
     ]
    }
   ],
   "source": [
    "a=np.array([[1,2,3],[4,5,6],[7,8,9]])\n",
    "print('a.fletten \\n',a.flatten())\n",
    "print('a.fletten order='F' \\n',a.flatten(order='F'))"
   ]
  },
  {
   "cell_type": "code",
   "execution_count": 50,
   "id": "objective-riding",
   "metadata": {},
   "outputs": [
    {
     "name": "stdout",
     "output_type": "stream",
     "text": [
      "a.fletten \n",
      " [1 2 3 4 5 6 7 8 9]\n",
      "a.fletten order= \n",
      " [1 4 7 2 5 8 3 6 9]\n"
     ]
    }
   ],
   "source": [
    "a=np.array([[1,2,3],[4,5,6],[7,8,9]])\n",
    "print('a.fletten \\n',a.ravel())\n",
    "print('a.fletten order='F' \\n',a.ravel(order='F'))\n"
   ]
  },
  {
   "cell_type": "markdown",
   "id": "plastic-darwin",
   "metadata": {},
   "source": [
    "# transpose and swapaxis matrix"
   ]
  },
  {
   "cell_type": "code",
   "execution_count": 1,
   "id": "optical-litigation",
   "metadata": {},
   "outputs": [
    {
     "name": "stdout",
     "output_type": "stream",
     "text": [
      "[[ 1  3  5  7  9]\n",
      " [ 2  4  6  8 10]]\n",
      "shape of array1 is :  (5, 2)\n",
      "shape of arry1 after transpose : (2, 5)\n"
     ]
    }
   ],
   "source": [
    "import numpy as np\n",
    "array1=np.arange(1,11).reshape(5,2)\n",
    "print(np.transpose(array1))\n",
    "print('shape of array1 is : ',array1.shape)\n",
    "print('shape of arry1 after transpose :',np.transpose(array1).shape)\n",
    "#transpose does not work in 1 dimensional array"
   ]
  },
  {
   "cell_type": "code",
   "execution_count": 4,
   "id": "pregnant-chester",
   "metadata": {},
   "outputs": [
    {
     "name": "stdout",
     "output_type": "stream",
     "text": [
      "[[[ 1 10]\n",
      "  [ 4 13]\n",
      "  [ 7 16]]\n",
      "\n",
      " [[ 2 11]\n",
      "  [ 5 14]\n",
      "  [ 8 17]]\n",
      "\n",
      " [[ 3 12]\n",
      "  [ 6 15]\n",
      "  [ 9 18]]]\n",
      " Shape after array2 : (2, 3, 3)\n",
      " Shape after array2 : (3, 3, 2)\n"
     ]
    }
   ],
   "source": [
    "#3d array\n",
    "import numpy as np\n",
    "array2=np.array([\n",
    "    [\n",
    "  [1,2,3],\n",
    "  [4,5,6],\n",
    "  [7,8,9]\n",
    "],\n",
    "  [\n",
    "    [10,11,12],\n",
    "    [13,14,15],\n",
    "    [16,17,18]\n",
    "    ]\n",
    "])\n",
    "print(np.transpose(array2))\n",
    "print(' Shape after array2 :',array2.shape)\n",
    "print(' Shape after array2 :',np.transpose(array2).shape)"
   ]
  },
  {
   "cell_type": "code",
   "execution_count": 10,
   "id": "satellite-violence",
   "metadata": {},
   "outputs": [
    {
     "name": "stdout",
     "output_type": "stream",
     "text": [
      "[[[ 1  2  3  4]\n",
      "  [ 5  6  7  8]\n",
      "  [ 9 10 11 12]]\n",
      "\n",
      " [[13 14 15 16]\n",
      "  [17 18 19 20]\n",
      "  [21 22 23 24]]]\n",
      "after transpose :\n",
      " [[[ 1 13]\n",
      "  [ 5 17]\n",
      "  [ 9 21]]\n",
      "\n",
      " [[ 2 14]\n",
      "  [ 6 18]\n",
      "  [10 22]]\n",
      "\n",
      " [[ 3 15]\n",
      "  [ 7 19]\n",
      "  [11 23]]\n",
      "\n",
      " [[ 4 16]\n",
      "  [ 8 20]\n",
      "  [12 24]]]\n",
      "after transpose Change :\n",
      " [[[ 1 13]\n",
      "  [ 2 14]\n",
      "  [ 3 15]\n",
      "  [ 4 16]]\n",
      "\n",
      " [[ 5 17]\n",
      "  [ 6 18]\n",
      "  [ 7 19]\n",
      "  [ 8 20]]\n",
      "\n",
      " [[ 9 21]\n",
      "  [10 22]\n",
      "  [11 23]\n",
      "  [12 24]]]\n"
     ]
    }
   ],
   "source": [
    "#important\n",
    "print(np.arange(1,25).reshape(2,3,4))\n",
    "print('after transpose :\\n',np.transpose(np.arange(1,25).reshape(2,3,4)))\n",
    "# after reshape (2,3,4) ---> (4,3,2)  \n",
    "# here 2=0 position,3=1 position,4=2 position\n",
    "print('after transpose Change :\\n',np.transpose(np.arange(1,25).reshape(2,3,4), (1,2,0)))"
   ]
  },
  {
   "cell_type": "code",
   "execution_count": 11,
   "id": "defined-thomas",
   "metadata": {},
   "outputs": [
    {
     "data": {
      "text/plain": [
       "array([[1, 4, 7],\n",
       "       [2, 5, 8],\n",
       "       [3, 6, 9]])"
      ]
     },
     "execution_count": 11,
     "metadata": {},
     "output_type": "execute_result"
    }
   ],
   "source": [
    "#shortcut of transpose matrix\n",
    "a=np.arange(1,10).reshape(3,3)\n",
    "a.T"
   ]
  },
  {
   "cell_type": "markdown",
   "id": "serious-scout",
   "metadata": {},
   "source": [
    "# swap axis swapaxes(array,ax1,ax2)"
   ]
  },
  {
   "cell_type": "code",
   "execution_count": 22,
   "id": "together-killing",
   "metadata": {},
   "outputs": [
    {
     "name": "stdout",
     "output_type": "stream",
     "text": [
      "(1, 3)\n",
      "result of np.swapaxes(a,0,1) \n",
      " [[1]\n",
      " [2]\n",
      " [3]]\n",
      "result of np.swapaxes(a,0,0) \n",
      " [[1 2 3]]\n"
     ]
    }
   ],
   "source": [
    "a=np.array([[1,2,3]])\n",
    "print(a.shape)\n",
    "print('result of np.swapaxes(a,0,1) \\n',np.swapaxes(a,0,1)) # here 1 is dimension\n",
    "print('result of np.swapaxes(a,0,0) \\n',np.swapaxes(a,0,0))\n",
    "\n"
   ]
  },
  {
   "cell_type": "code",
   "execution_count": 29,
   "id": "employed-glasgow",
   "metadata": {},
   "outputs": [
    {
     "name": "stdout",
     "output_type": "stream",
     "text": [
      "(2, 3, 3)\n",
      " result of (array2,2,1) \n",
      " [[[ 1  4  7]\n",
      "  [ 2  5  8]\n",
      "  [ 3  6  9]]\n",
      "\n",
      " [[10 13 16]\n",
      "  [11 14 17]\n",
      "  [12 15 18]]]\n",
      " result of (array2,2,2) \n",
      " [[[ 1  2  3]\n",
      "  [ 4  5  6]\n",
      "  [ 7  8  9]]\n",
      "\n",
      " [[10 11 12]\n",
      "  [13 14 15]\n",
      "  [16 17 18]]]\n",
      " result of (array2,2,2) \n",
      " [[[ 1  4  7]\n",
      "  [ 2  5  8]\n",
      "  [ 3  6  9]]\n",
      "\n",
      " [[10 13 16]\n",
      "  [11 14 17]\n",
      "  [12 15 18]]]\n"
     ]
    }
   ],
   "source": [
    "#swap axis in three dimension\n",
    "array2=np.array([\n",
    "    [\n",
    "  [1,2,3],\n",
    "  [4,5,6],\n",
    "  [7,8,9]\n",
    "],\n",
    "  [\n",
    "    [10,11,12],\n",
    "    [13,14,15],\n",
    "    [16,17,18]\n",
    "    ]\n",
    "])\n",
    "print(array2.shape)\n",
    "print(' result of (array2,2,1) \\n',np.swapaxes(array2,2,1))#here we want to swap row and column\n",
    "\n",
    "print(' result of (array2,2,2) \\n',np.swapaxes(array2,2,2))\n",
    "print(' result of (array2,1,2) \\n',np.swapaxes(array2,1,2))# 1 means we change no2 matrix ,2 dimension"
   ]
  },
  {
   "cell_type": "markdown",
   "id": "hungry-venue",
   "metadata": {},
   "source": [
    "## swapaxis(a,dimension you want to change , no of dimension)"
   ]
  },
  {
   "cell_type": "markdown",
   "id": "primary-natural",
   "metadata": {},
   "source": [
    "#  spliting and joining\n",
    "## concatenate , vstack ,hstack ,vsplit ,hsplit ,split ,axis"
   ]
  },
  {
   "cell_type": "code",
   "execution_count": 30,
   "id": "eight-anxiety",
   "metadata": {},
   "outputs": [
    {
     "name": "stdout",
     "output_type": "stream",
     "text": [
      "concatenate : [1 2 3 4 5 0 1 2 3 4]\n",
      "[1. 2. 3. 4. 5. 0. 1. 2. 3. 4.]\n",
      "data stored in c is : [1. 2. 3. 4. 5. 0. 1. 2. 3. 4.]\n"
     ]
    }
   ],
   "source": [
    "#   --------------concatenate---------------------\n",
    "\n",
    "import numpy as np\n",
    "# help(np.concatenate)\n",
    "a=np.arange(1,6)\n",
    "b=np.arange(5)\n",
    "print('concatenate :',np.concatenate((a,b)))#use double brakect\n",
    "c=np.zeros(10)\n",
    "print(np.concatenate((a,b),out=c))#out means output\n",
    "print('data stored in c is :',c)"
   ]
  },
  {
   "cell_type": "code",
   "execution_count": 31,
   "id": "friendly-smoke",
   "metadata": {},
   "outputs": [
    {
     "name": "stdout",
     "output_type": "stream",
     "text": [
      "concatning (c,d) :\n",
      "  [[1 2]\n",
      " [3 4]\n",
      " [8 9]]\n",
      "concatning with axis 1 : [[1 2 8]\n",
      " [3 4 9]]\n"
     ]
    }
   ],
   "source": [
    "c=np.array([[1,2],[3,4]])\n",
    "d=np.array([[8,9]])\n",
    "print('concatning (c,d) :\\n ',np.concatenate((c,d)))\n",
    "print('concatning with axis 1 :',np.concatenate((c,d.T),axis=1))#axis 1 means columnwise"
   ]
  },
  {
   "cell_type": "code",
   "execution_count": 32,
   "id": "ancient-paragraph",
   "metadata": {},
   "outputs": [
    {
     "name": "stdout",
     "output_type": "stream",
     "text": [
      "using vstack :\n",
      "\n",
      " [[1 2 3 4 5]\n",
      " [0 1 2 3 4]]\n",
      "v stack (c,d) :\n",
      "\n",
      "  [[1 2]\n",
      " [3 4]\n",
      " [8 9]]\n"
     ]
    }
   ],
   "source": [
    "#v stack fuction behave like 1d array \n",
    "\n",
    "import numpy as np\n",
    "# help(np.concatenate)\n",
    "a=np.arange(1,6)\n",
    "b=np.arange(5)\n",
    "print('using vstack :\\n\\n',np.vstack((a,b)))#use double brakect\n",
    "#it will give two dimensional array\n",
    "\n",
    "# ----------------------------------for 2d array----------------------------------\n",
    "c=np.array([[1,2],[3,4]])\n",
    "d=np.array([[8,9]])\n",
    "print('v stack (c,d) :\\n\\n ',np.vstack((c,d)))\n"
   ]
  },
  {
   "cell_type": "code",
   "execution_count": 33,
   "id": "basic-castle",
   "metadata": {},
   "outputs": [
    {
     "name": "stdout",
     "output_type": "stream",
     "text": [
      "using hstack :\n",
      "\n",
      " [1 2 3 4 5 0 1 2 3 4]\n",
      "hstack (c,d.T) :\n",
      "\n",
      "  [[1 2 8]\n",
      " [3 4 9]]\n"
     ]
    }
   ],
   "source": [
    "import numpy as np\n",
    "# help(np.concatenate)\n",
    "a=np.arange(1,6)\n",
    "b=np.arange(5)\n",
    "print('using hstack :\\n\\n',np.hstack((a,b)))#use double brakect\n",
    "\n",
    "\n",
    "# ----------------------------------for 2d array----------------------------------\n",
    "c=np.array([[1,2],[3,4]])\n",
    "d=np.array([[8,9]])\n",
    "print('hstack (c,d.T) :\\n\\n ',np.hstack((c,d.T)))"
   ]
  },
  {
   "cell_type": "code",
   "execution_count": 34,
   "id": "medieval-banner",
   "metadata": {},
   "outputs": [
    {
     "name": "stdout",
     "output_type": "stream",
     "text": [
      "[array([1, 2, 3]), array([4, 5, 6]), array([7, 8, 9])]\n",
      "hsplit in one dimension : [array([1, 2, 3]), array([4, 5, 6]), array([7, 8, 9])]\n",
      "hsplit in two dimensional array :\n",
      "\n",
      " [array([[1, 2],\n",
      "       [7, 8]]), array([[ 3,  4],\n",
      "       [ 9, 10]]), array([[ 5,  6],\n",
      "       [11, 12]])]\n"
     ]
    }
   ],
   "source": [
    "e=np.arange(1,10)\n",
    "print(np.split(e,3))\n",
    "#reshape and arrange function work at same way\n",
    "#we can also call avobe method as v split method because axis =0\n",
    "print('hsplit in one dimension :',np.hsplit(e,3))\n",
    "\n",
    "\n",
    "f=np.arange(1,13).reshape(2,6)\n",
    "print('hsplit in two dimensional array :\\n\\n',np.hsplit(f,3))"
   ]
  },
  {
   "cell_type": "code",
   "execution_count": 35,
   "id": "referenced-productivity",
   "metadata": {},
   "outputs": [
    {
     "data": {
      "text/plain": [
       "array([[ 1,  2,  3,  4,  5,  6],\n",
       "       [ 7,  8,  9, 10, 11, 12]])"
      ]
     },
     "execution_count": 35,
     "metadata": {},
     "output_type": "execute_result"
    }
   ],
   "source": [
    "np.arange(1,13).reshape(2,6)"
   ]
  },
  {
   "cell_type": "markdown",
   "id": "increasing-compression",
   "metadata": {},
   "source": [
    "#  insert(array,obj,value,axis=NONE)\n",
    "#  obj is one type of indexing"
   ]
  },
  {
   "cell_type": "code",
   "execution_count": 37,
   "id": "official-situation",
   "metadata": {},
   "outputs": [
    {
     "name": "stdout",
     "output_type": "stream",
     "text": [
      "[ 1  2 70  3  4  5  6  7  8  9]\n",
      "[ 1  2 70  3  4  5  6  7 70  8  9]\n"
     ]
    }
   ],
   "source": [
    "a=np.arange(1,10)\n",
    "print(np.insert(a,2,70))\n",
    "print(np.insert(a,(2,7),70))"
   ]
  },
  {
   "cell_type": "code",
   "execution_count": 40,
   "id": "republican-documentation",
   "metadata": {},
   "outputs": [
    {
     "name": "stdout",
     "output_type": "stream",
     "text": [
      "[ 1  2 20  3  4]\n",
      "[[ 1  2]\n",
      " [ 3  4]\n",
      " [20 20]]\n",
      "[[ 1  2]\n",
      " [ 3  4]\n",
      " [ 5 80]]\n",
      "[[ 1  2  5]\n",
      " [ 3  4 80]]\n"
     ]
    }
   ],
   "source": [
    "b=np.array([[1,2],[3,4]])\n",
    "print(np.insert(b,2,20))\n",
    "print(np.insert(b,2,20,axis=0))\n",
    "print(np.insert(b,2,[5,80],axis=0))#row\n",
    "print(np.insert(b,2,[5,80],axis=1))#column\n"
   ]
  },
  {
   "cell_type": "markdown",
   "id": "republican-preserve",
   "metadata": {},
   "source": [
    "### diffrent between insert and append is append add value at the last of string\n",
    "\n",
    "# append(array,value ,axis)"
   ]
  },
  {
   "cell_type": "code",
   "execution_count": 41,
   "id": "found-reputation",
   "metadata": {},
   "outputs": [
    {
     "name": "stdout",
     "output_type": "stream",
     "text": [
      "[ 1  2  3  4 20]\n",
      "[ 1  2  3  4 20]\n",
      "[[ 1  2]\n",
      " [ 3  4]\n",
      " [ 5 80]]\n"
     ]
    },
    {
     "ename": "ValueError",
     "evalue": "all the input array dimensions for the concatenation axis must match exactly, but along dimension 0, the array at index 0 has size 2 and the array at index 1 has size 1",
     "output_type": "error",
     "traceback": [
      "\u001b[1;31m---------------------------------------------------------------------------\u001b[0m",
      "\u001b[1;31mValueError\u001b[0m                                Traceback (most recent call last)",
      "\u001b[1;32m<ipython-input-41-b60ce1e99ac8>\u001b[0m in \u001b[0;36m<module>\u001b[1;34m\u001b[0m\n\u001b[0;32m      4\u001b[0m \u001b[0mprint\u001b[0m\u001b[1;33m(\u001b[0m\u001b[0mnp\u001b[0m\u001b[1;33m.\u001b[0m\u001b[0mappend\u001b[0m\u001b[1;33m(\u001b[0m\u001b[0mb\u001b[0m\u001b[1;33m,\u001b[0m\u001b[1;33m[\u001b[0m\u001b[1;33m[\u001b[0m\u001b[1;36m5\u001b[0m\u001b[1;33m,\u001b[0m\u001b[1;36m80\u001b[0m\u001b[1;33m]\u001b[0m\u001b[1;33m]\u001b[0m\u001b[1;33m,\u001b[0m\u001b[0maxis\u001b[0m\u001b[1;33m=\u001b[0m\u001b[1;36m0\u001b[0m\u001b[1;33m)\u001b[0m\u001b[1;33m)\u001b[0m\u001b[1;31m#without axis it can't be give 2d array\u001b[0m\u001b[1;33m\u001b[0m\u001b[1;33m\u001b[0m\u001b[0m\n\u001b[0;32m      5\u001b[0m \u001b[1;31m#use nasted value otherwise it make error\u001b[0m\u001b[1;33m\u001b[0m\u001b[1;33m\u001b[0m\u001b[1;33m\u001b[0m\u001b[0m\n\u001b[1;32m----> 6\u001b[1;33m \u001b[0mprint\u001b[0m\u001b[1;33m(\u001b[0m\u001b[0mnp\u001b[0m\u001b[1;33m.\u001b[0m\u001b[0mappend\u001b[0m\u001b[1;33m(\u001b[0m\u001b[0mb\u001b[0m\u001b[1;33m,\u001b[0m\u001b[1;33m[\u001b[0m\u001b[1;33m[\u001b[0m\u001b[1;36m5\u001b[0m\u001b[1;33m,\u001b[0m\u001b[1;36m80\u001b[0m\u001b[1;33m]\u001b[0m\u001b[1;33m]\u001b[0m\u001b[1;33m,\u001b[0m\u001b[0maxis\u001b[0m\u001b[1;33m=\u001b[0m\u001b[1;36m1\u001b[0m\u001b[1;33m)\u001b[0m\u001b[1;33m)\u001b[0m\u001b[1;33m\u001b[0m\u001b[1;33m\u001b[0m\u001b[0m\n\u001b[0m\u001b[0;32m      7\u001b[0m \u001b[0mprint\u001b[0m\u001b[1;33m(\u001b[0m\u001b[0mnp\u001b[0m\u001b[1;33m.\u001b[0m\u001b[0mappend\u001b[0m\u001b[1;33m(\u001b[0m\u001b[0mb\u001b[0m\u001b[1;33m,\u001b[0m\u001b[1;36m5\u001b[0m\u001b[1;33m,\u001b[0m\u001b[0maxis\u001b[0m\u001b[1;33m=\u001b[0m\u001b[1;36m0\u001b[0m\u001b[1;33m)\u001b[0m\u001b[1;33m)\u001b[0m\u001b[1;31m#error\u001b[0m\u001b[1;33m\u001b[0m\u001b[1;33m\u001b[0m\u001b[0m\n\u001b[0;32m      8\u001b[0m \"\"\"\n",
      "\u001b[1;32m<__array_function__ internals>\u001b[0m in \u001b[0;36mappend\u001b[1;34m(*args, **kwargs)\u001b[0m\n",
      "\u001b[1;32mc:\\users\\rakib\\appdata\\local\\programs\\python\\python39\\lib\\site-packages\\numpy\\lib\\function_base.py\u001b[0m in \u001b[0;36mappend\u001b[1;34m(arr, values, axis)\u001b[0m\n\u001b[0;32m   4743\u001b[0m         \u001b[0mvalues\u001b[0m \u001b[1;33m=\u001b[0m \u001b[0mravel\u001b[0m\u001b[1;33m(\u001b[0m\u001b[0mvalues\u001b[0m\u001b[1;33m)\u001b[0m\u001b[1;33m\u001b[0m\u001b[1;33m\u001b[0m\u001b[0m\n\u001b[0;32m   4744\u001b[0m         \u001b[0maxis\u001b[0m \u001b[1;33m=\u001b[0m \u001b[0marr\u001b[0m\u001b[1;33m.\u001b[0m\u001b[0mndim\u001b[0m\u001b[1;33m-\u001b[0m\u001b[1;36m1\u001b[0m\u001b[1;33m\u001b[0m\u001b[1;33m\u001b[0m\u001b[0m\n\u001b[1;32m-> 4745\u001b[1;33m     \u001b[1;32mreturn\u001b[0m \u001b[0mconcatenate\u001b[0m\u001b[1;33m(\u001b[0m\u001b[1;33m(\u001b[0m\u001b[0marr\u001b[0m\u001b[1;33m,\u001b[0m \u001b[0mvalues\u001b[0m\u001b[1;33m)\u001b[0m\u001b[1;33m,\u001b[0m \u001b[0maxis\u001b[0m\u001b[1;33m=\u001b[0m\u001b[0maxis\u001b[0m\u001b[1;33m)\u001b[0m\u001b[1;33m\u001b[0m\u001b[1;33m\u001b[0m\u001b[0m\n\u001b[0m\u001b[0;32m   4746\u001b[0m \u001b[1;33m\u001b[0m\u001b[0m\n\u001b[0;32m   4747\u001b[0m \u001b[1;33m\u001b[0m\u001b[0m\n",
      "\u001b[1;32m<__array_function__ internals>\u001b[0m in \u001b[0;36mconcatenate\u001b[1;34m(*args, **kwargs)\u001b[0m\n",
      "\u001b[1;31mValueError\u001b[0m: all the input array dimensions for the concatenation axis must match exactly, but along dimension 0, the array at index 0 has size 2 and the array at index 1 has size 1"
     ]
    }
   ],
   "source": [
    "b=np.array([[1,2],[3,4]])\n",
    "print(np.append(b,20))#this make array flatten in one dimensional arrey so use axis to get 2d\n",
    "print(np.append(b,20))#look this this is totally brodcasting\n",
    "print(np.append(b,[[5,80]],axis=0))#without axis it can't be give 2d array\n",
    "#use nasted value otherwise it make error\n",
    "print(np.append(b,[[5,80]],axis=1))\n",
    "print(np.append(b,5,axis=0))#error\n",
    "\"\"\"\n",
    "it make error because :\n",
    "   1 2|5 80|\n",
    "   3 5\n",
    "   that is not possible\n",
    "\"\"\""
   ]
  },
  {
   "cell_type": "markdown",
   "id": "concrete-buffalo",
   "metadata": {},
   "source": [
    "# delete(array,obj /index,axis)\n"
   ]
  },
  {
   "cell_type": "code",
   "execution_count": 46,
   "id": "intimate-emergency",
   "metadata": {},
   "outputs": [
    {
     "name": "stdout",
     "output_type": "stream",
     "text": [
      "[2 3 4]\n",
      "result of (b,1): [1 3 4]\n",
      "result of (b,1 with axis \n",
      " [[1 2]]\n",
      "result of (b,1 with axis=1) \n",
      " [[1]\n",
      " [3]]\n"
     ]
    }
   ],
   "source": [
    "b=np.array([[1,2],[3,4]])\n",
    "print(np.delete(b,0))\n",
    "print('result of (b,1):',np.delete(b,1))\n",
    "print('result of (b,1 with axis \\n',np.delete(b,1,axis=0))\n",
    "print('result of (b,1 with axis=1) \\n',np.delete(b,1,axis=1))"
   ]
  },
  {
   "cell_type": "markdown",
   "id": "marked-operations",
   "metadata": {},
   "source": [
    "#  ------------matrix------------"
   ]
  },
  {
   "cell_type": "code",
   "execution_count": 48,
   "id": "unauthorized-variety",
   "metadata": {},
   "outputs": [
    {
     "name": "stdout",
     "output_type": "stream",
     "text": [
      "result of a*b \n",
      " [[ 10  40]\n",
      " [ 90 160]]\n",
      "result of adot(b) \n",
      " [[ 70 100]\n",
      " [150 220]]\n"
     ]
    }
   ],
   "source": [
    "a=np.array([[1,2],[3,4]])\n",
    "a=np.array([[10,20],[30,40]])\n",
    "print('result of a*b \\n',a*b)\n",
    "print('result of adot(b) \\n',a.dot(b))"
   ]
  },
  {
   "cell_type": "markdown",
   "id": "ordered-abortion",
   "metadata": {},
   "source": [
    "# ------------------- matrix Class--------------------------"
   ]
  },
  {
   "cell_type": "code",
   "execution_count": 2,
   "id": "suited-access",
   "metadata": {},
   "outputs": [
    {
     "name": "stdout",
     "output_type": "stream",
     "text": [
      "[[1 2]\n",
      " [3 4]]\n"
     ]
    }
   ],
   "source": [
    "import numpy as np\n",
    "a=np.matrix('1 2 ; 3 4')\n",
    "print(a)"
   ]
  },
  {
   "cell_type": "code",
   "execution_count": 3,
   "id": "wrong-strengthening",
   "metadata": {},
   "outputs": [
    {
     "name": "stdout",
     "output_type": "stream",
     "text": [
      "[[10 20]\n",
      " [30 40]]\n"
     ]
    }
   ],
   "source": [
    "b=np.matrix([[10,20],[30,40]])\n",
    "print(b)"
   ]
  },
  {
   "cell_type": "code",
   "execution_count": 4,
   "id": "provincial-carolina",
   "metadata": {},
   "outputs": [
    {
     "data": {
      "text/plain": [
       "matrix([[11, 22],\n",
       "        [33, 44]])"
      ]
     },
     "execution_count": 4,
     "metadata": {},
     "output_type": "execute_result"
    }
   ],
   "source": [
    "a+b"
   ]
  },
  {
   "cell_type": "code",
   "execution_count": 5,
   "id": "processed-pacific",
   "metadata": {},
   "outputs": [
    {
     "data": {
      "text/plain": [
       "matrix([[ 70, 100],\n",
       "        [150, 220]])"
      ]
     },
     "execution_count": 5,
     "metadata": {},
     "output_type": "execute_result"
    }
   ],
   "source": [
    "a.dot(b)"
   ]
  },
  {
   "cell_type": "code",
   "execution_count": 6,
   "id": "olympic-feeling",
   "metadata": {},
   "outputs": [
    {
     "data": {
      "text/plain": [
       "matrix([[1, 3],\n",
       "        [2, 4]])"
      ]
     },
     "execution_count": 6,
     "metadata": {},
     "output_type": "execute_result"
    }
   ],
   "source": [
    "a.T"
   ]
  },
  {
   "cell_type": "markdown",
   "id": "young-device",
   "metadata": {},
   "source": [
    "# ------------------------Inverse Matrix-------------------"
   ]
  },
  {
   "cell_type": "code",
   "execution_count": 11,
   "id": "choice-antigua",
   "metadata": {},
   "outputs": [
    {
     "name": "stdout",
     "output_type": "stream",
     "text": [
      "[[-1.66666667  0.66666667]\n",
      " [ 1.33333333 -0.33333333]]\n",
      "result of a.dot(b) : \n",
      " [[1.00000000e+00 0.00000000e+00]\n",
      " [2.22044605e-16 1.00000000e+00]]\n"
     ]
    }
   ],
   "source": [
    "a=np.array([[1,2],[4,5]])\n",
    "b=np.linalg.inv(a)\n",
    "print(b)\n",
    "\n",
    "print('result of a.dot(b) : \\n',a.dot(b))"
   ]
  },
  {
   "cell_type": "markdown",
   "id": "suffering-excess",
   "metadata": {},
   "source": [
    "# -------------- power matrix -----------------"
   ]
  },
  {
   "cell_type": "code",
   "execution_count": 13,
   "id": "headed-machine",
   "metadata": {},
   "outputs": [
    {
     "name": "stdout",
     "output_type": "stream",
     "text": [
      "[[ 7 10]\n",
      " [15 22]]\n"
     ]
    }
   ],
   "source": [
    "a=np.array([[1,2],[3,4]])\n",
    "b=np.linalg.matrix_power(a,2)\n",
    "print(b)"
   ]
  },
  {
   "cell_type": "code",
   "execution_count": 14,
   "id": "minute-pantyhose",
   "metadata": {},
   "outputs": [
    {
     "data": {
      "text/plain": [
       "2"
      ]
     },
     "execution_count": 14,
     "metadata": {},
     "output_type": "execute_result"
    }
   ],
   "source": [
    "np.linalg.matrix_rank(a)"
   ]
  },
  {
   "cell_type": "code",
   "execution_count": 15,
   "id": "expressed-sunday",
   "metadata": {},
   "outputs": [
    {
     "data": {
      "text/plain": [
       "array([[ 7, 10],\n",
       "       [15, 22]])"
      ]
     },
     "execution_count": 15,
     "metadata": {},
     "output_type": "execute_result"
    }
   ],
   "source": [
    "np.dot(a,a)"
   ]
  },
  {
   "cell_type": "code",
   "execution_count": 16,
   "id": "sudden-arrival",
   "metadata": {},
   "outputs": [
    {
     "data": {
      "text/plain": [
       "array([[1, 0],\n",
       "       [0, 1]])"
      ]
     },
     "execution_count": 16,
     "metadata": {},
     "output_type": "execute_result"
    }
   ],
   "source": [
    "np.linalg.matrix_power(a,0)"
   ]
  },
  {
   "cell_type": "code",
   "execution_count": 17,
   "id": "august-young",
   "metadata": {},
   "outputs": [
    {
     "data": {
      "text/plain": [
       "array([[ 5.5 , -2.5 ],\n",
       "       [-3.75,  1.75]])"
      ]
     },
     "execution_count": 17,
     "metadata": {},
     "output_type": "execute_result"
    }
   ],
   "source": [
    "np.linalg.matrix_power(a,-2)\n",
    "#here 1st we 1st calculate inverse then power of 2"
   ]
  },
  {
   "cell_type": "markdown",
   "id": "expanded-transaction",
   "metadata": {},
   "source": [
    "# -------------- solve equation ----------------"
   ]
  },
  {
   "cell_type": "code",
   "execution_count": 19,
   "id": "empirical-distinction",
   "metadata": {},
   "outputs": [
    {
     "data": {
      "text/plain": [
       "array([[1., 0.],\n",
       "       [0., 1.]])"
      ]
     },
     "execution_count": 19,
     "metadata": {},
     "output_type": "execute_result"
    }
   ],
   "source": [
    "np.eye(2)"
   ]
  },
  {
   "cell_type": "code",
   "execution_count": 20,
   "id": "designing-criminal",
   "metadata": {},
   "outputs": [
    {
     "data": {
      "text/plain": [
       "array([[1., 0., 0.],\n",
       "       [0., 1., 0.]])"
      ]
     },
     "execution_count": 20,
     "metadata": {},
     "output_type": "execute_result"
    }
   ],
   "source": [
    "np.eye(2,3)"
   ]
  },
  {
   "cell_type": "code",
   "execution_count": 21,
   "id": "relative-proof",
   "metadata": {},
   "outputs": [
    {
     "name": "stdout",
     "output_type": "stream",
     "text": [
      "[2. 3.]\n"
     ]
    }
   ],
   "source": [
    "'''\n",
    "3x+y=9\n",
    "x+2y=8\n",
    "'''\n",
    "a=np.array([[3,1],[1,2]])\n",
    "b=np.array([9,8])\n",
    "print(np.linalg.solve(a,b))"
   ]
  },
  {
   "cell_type": "code",
   "execution_count": 23,
   "id": "successful-lebanon",
   "metadata": {},
   "outputs": [
    {
     "name": "stdout",
     "output_type": "stream",
     "text": [
      "[0, 3.141592653589793, 1.0471975511965976, 0.5235987755982988, 0.3490658503988659]\n",
      "[ 1.         11.59195328  1.60028686  1.14023832  1.06154461]\n"
     ]
    }
   ],
   "source": [
    "import math\n",
    "array=[0,math.pi,math.pi/3,math.pi/6,math.pi/9]\n",
    "print(array)\n",
    "\n",
    "print(np.cosh(array))"
   ]
  },
  {
   "cell_type": "code",
   "execution_count": 25,
   "id": "educated-maple",
   "metadata": {},
   "outputs": [
    {
     "data": {
      "text/plain": [
       "431.9999999999998"
      ]
     },
     "execution_count": 25,
     "metadata": {},
     "output_type": "execute_result"
    }
   ],
   "source": [
    "a=np.array([[1,2,3],[4,5,6],[7,80,9]])\n",
    "np.linalg.det(a)"
   ]
  },
  {
   "cell_type": "code",
   "execution_count": 28,
   "id": "initial-latino",
   "metadata": {},
   "outputs": [
    {
     "name": "stdout",
     "output_type": "stream",
     "text": [
      "[[ 1  2  3]\n",
      " [ 4  5  6]\n",
      " [ 7 80  9]]\n"
     ]
    },
    {
     "data": {
      "text/plain": [
       "array([1, 2, 3])"
      ]
     },
     "execution_count": 28,
     "metadata": {},
     "output_type": "execute_result"
    }
   ],
   "source": [
    "a=np.array([[1,2,3],[4,5,6],[7,80,9]])\n",
    "print(a)\n",
    "a[0]"
   ]
  },
  {
   "cell_type": "code",
   "execution_count": 29,
   "id": "developed-today",
   "metadata": {},
   "outputs": [
    {
     "ename": "SyntaxError",
     "evalue": "invalid syntax (<ipython-input-29-f5092953c679>, line 2)",
     "output_type": "error",
     "traceback": [
      "\u001b[1;36m  File \u001b[1;32m\"<ipython-input-29-f5092953c679>\"\u001b[1;36m, line \u001b[1;32m2\u001b[0m\n\u001b[1;33m    of a ordinary differential equation\u001b[0m\n\u001b[1;37m       ^\u001b[0m\n\u001b[1;31mSyntaxError\u001b[0m\u001b[1;31m:\u001b[0m invalid syntax\n"
     ]
    }
   ],
   "source": []
  },
  {
   "cell_type": "code",
   "execution_count": null,
   "id": "finite-anger",
   "metadata": {},
   "outputs": [],
   "source": []
  }
 ],
 "metadata": {
  "kernelspec": {
   "display_name": "Python 3",
   "language": "python",
   "name": "python3"
  },
  "language_info": {
   "codemirror_mode": {
    "name": "ipython",
    "version": 3
   },
   "file_extension": ".py",
   "mimetype": "text/x-python",
   "name": "python",
   "nbconvert_exporter": "python",
   "pygments_lexer": "ipython3",
   "version": "3.9.2"
  }
 },
 "nbformat": 4,
 "nbformat_minor": 5
}
