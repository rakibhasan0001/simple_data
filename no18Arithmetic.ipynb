{
 "cells": [
  {
   "cell_type": "markdown",
   "id": "pleasant-fellow",
   "metadata": {},
   "source": [
    "# import numpy as np \\n\n",
    "np.add \\n\n",
    "np.subtract\n",
    "np.power\n",
    "np.mod # %\n",
    "np.divide\n",
    "np.multiply"
   ]
  },
  {
   "cell_type": "code",
   "execution_count": 4,
   "id": "fabulous-syracuse",
   "metadata": {},
   "outputs": [
    {
     "name": "stdout",
     "output_type": "stream",
     "text": [
      "[-9  0  0 -6]\n"
     ]
    }
   ],
   "source": [
    "import numpy as np\n",
    "a=np.arange(1,5)\n",
    "b=np.array([10,2,3,10])\n",
    "a+b\n",
    "print(np.subtract(a,b))"
   ]
  },
  {
   "cell_type": "code",
   "execution_count": 7,
   "id": "middle-consistency",
   "metadata": {},
   "outputs": [
    {
     "data": {
      "text/plain": [
       "array([[11, 13, 15],\n",
       "       [17, 19, 21],\n",
       "       [23, 25, 27]])"
      ]
     },
     "execution_count": 7,
     "metadata": {},
     "output_type": "execute_result"
    }
   ],
   "source": [
    "c=np.array([[1,2,3],[4,5,6],[7,8,9]])\n",
    "d=np.array([[10,11,12],[13,14,15],[16,17,18]])\n",
    "c+d"
   ]
  },
  {
   "cell_type": "code",
   "execution_count": null,
   "id": "classified-horizontal",
   "metadata": {},
   "outputs": [],
   "source": []
  }
 ],
 "metadata": {
  "kernelspec": {
   "display_name": "Python 3",
   "language": "python",
   "name": "python3"
  },
  "language_info": {
   "codemirror_mode": {
    "name": "ipython",
    "version": 3
   },
   "file_extension": ".py",
   "mimetype": "text/x-python",
   "name": "python",
   "nbconvert_exporter": "python",
   "pygments_lexer": "ipython3",
   "version": "3.9.2"
  }
 },
 "nbformat": 4,
 "nbformat_minor": 5
}
