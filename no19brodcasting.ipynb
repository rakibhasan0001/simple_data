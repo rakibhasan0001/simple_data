{
 "cells": [
  {
   "cell_type": "code",
   "execution_count": 1,
   "id": "stock-mapping",
   "metadata": {},
   "outputs": [],
   "source": [
    "# it is is arry with diffrent size of array\n",
    "# broadcusting rule:\n",
    "#     1:dimension of two element is same\n",
    "#         2:SIZE OF ONE DIMENSION SHOULD BE 1"
   ]
  },
  {
   "cell_type": "code",
   "execution_count": 2,
   "id": "amazing-possibility",
   "metadata": {},
   "outputs": [
    {
     "data": {
      "text/plain": [
       "array([[11, 22, 33],\n",
       "       [14, 25, 36],\n",
       "       [17, 28, 39]])"
      ]
     },
     "execution_count": 2,
     "metadata": {},
     "output_type": "execute_result"
    }
   ],
   "source": [
    "import numpy as np\n",
    "a=np.array([[1,2,3],[4,5,6],[7,8,9]])\n",
    "pri\n",
    "b=np.array([[10,20,30]])\n",
    "a+b"
   ]
  },
  {
   "cell_type": "markdown",
   "id": "decreased-castle",
   "metadata": {},
   "source": [
    "|name||age|\n",
    "|----||----|\n",
    "|rakib||20|\n",
    "| sakib al hasan   ||40   || sakib al hasan   ||40   |"
   ]
  },
  {
   "cell_type": "code",
   "execution_count": 7,
   "id": "continued-price",
   "metadata": {},
   "outputs": [
    {
     "name": "stdout",
     "output_type": "stream",
     "text": [
      "shape of a : (3, 3)\n",
      "size of a : 9\n",
      "shape of b : (1, 3)\n",
      "size of b : 3\n",
      "a+b result :\n",
      " [[11 22 33]\n",
      " [14 25 36]\n",
      " [17 28 39]]\n"
     ]
    }
   ],
   "source": [
    "import numpy as np\n",
    "a=np.array([[1,2,3],[4,5,6],[7,8,9]])\n",
    "b=np.array([[10,20,30]])\n",
    "print('shape of a :',a.shape)\n",
    "print('size of a :',a.size)\n",
    "print('shape of b :',b.shape)\n",
    "print('size of b :',b.size)\n",
    "print('a+b result :\\n',a+b)\n",
    "# if both column is same then broadcasting is possible shape should be (1,n)"
   ]
  },
  {
   "cell_type": "code",
   "execution_count": null,
   "id": "recorded-organization",
   "metadata": {},
   "outputs": [],
   "source": []
  },
  {
   "cell_type": "code",
   "execution_count": null,
   "id": "gorgeous-router",
   "metadata": {},
   "outputs": [],
   "source": []
  }
 ],
 "metadata": {
  "kernelspec": {
   "display_name": "Python 3",
   "language": "python",
   "name": "python3"
  },
  "language_info": {
   "codemirror_mode": {
    "name": "ipython",
    "version": 3
   },
   "file_extension": ".py",
   "mimetype": "text/x-python",
   "name": "python",
   "nbconvert_exporter": "python",
   "pygments_lexer": "ipython3",
   "version": "3.9.2"
  }
 },
 "nbformat": 4,
 "nbformat_minor": 5
}
