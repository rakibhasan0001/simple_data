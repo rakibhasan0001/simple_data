{
 "cells": [
  {
   "cell_type": "markdown",
   "id": "innocent-grenada",
   "metadata": {},
   "source": [
    "# # reshape function can't change data it just give a new structure.reshape(array,shape,order='c' or 'F')\n",
    "# resize change the data it repeat it own matrix value"
   ]
  },
  {
   "cell_type": "code",
   "execution_count": 8,
   "id": "eleven-anniversary",
   "metadata": {},
   "outputs": [
    {
     "name": "stdout",
     "output_type": "stream",
     "text": [
      "a size : 10\n",
      "[[0 5]\n",
      " [1 6]\n",
      " [2 7]\n",
      " [3 8]\n",
      " [4 9]]\n",
      "resize \n",
      "  [[0 1]\n",
      " [2 3]\n",
      " [4 5]\n",
      " [6 7]\n",
      " [8 9]\n",
      " [0 1]]\n"
     ]
    }
   ],
   "source": [
    "import numpy as np\n",
    "a=np.arange(10)\n",
    "print('a size :',a.size)\n",
    "# b=np.reshape(a,(2,5))\n",
    "# b=np.reshape(a,(5,2))#here 5x2=10=size of the array you can't give (5,3)\n",
    "b=np.reshape(a,(5,2),order='F')#here order is columnwise\n",
    "print(b)\n",
    "# ----------------------------resize--------------------------------\n",
    "c=np.resize(a,(6,2))\n",
    "print('resize \\n ',c)"
   ]
  },
  {
   "cell_type": "code",
   "execution_count": null,
   "id": "attached-illustration",
   "metadata": {},
   "outputs": [],
   "source": []
  }
 ],
 "metadata": {
  "kernelspec": {
   "display_name": "Python 3",
   "language": "python",
   "name": "python3"
  },
  "language_info": {
   "codemirror_mode": {
    "name": "ipython",
    "version": 3
   },
   "file_extension": ".py",
   "mimetype": "text/x-python",
   "name": "python",
   "nbconvert_exporter": "python",
   "pygments_lexer": "ipython3",
   "version": "3.9.2"
  }
 },
 "nbformat": 4,
 "nbformat_minor": 5
}
