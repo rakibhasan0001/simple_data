{
 "cells": [
  {
   "cell_type": "code",
   "execution_count": 8,
   "id": "drawn-burlington",
   "metadata": {},
   "outputs": [
    {
     "name": "stdout",
     "output_type": "stream",
     "text": [
      "a.fletten \n",
      " [1 2 3 4 5 6 7 8 9]\n",
      "a.fletten order= \n",
      " [1 4 7 2 5 8 3 6 9]\n"
     ]
    }
   ],
   "source": [
    "import numpy as np \n",
    "a=np.array([[1,2,3],[4,5,6],[7,8,9]])\n",
    "print('a.fletten \\n',a.flatten())\n",
    "print('a.fletten order='F' \\n',a.flatten(order='F'))\n",
    "#you can also use order=k or a"
   ]
  },
  {
   "cell_type": "markdown",
   "id": "found-chorus",
   "metadata": {},
   "source": [
    "|flatten||raval|\n",
    "|-------||-----|\n",
    "|it only give cope||it only give the view of the array or refarence|"
   ]
  },
  {
   "cell_type": "code",
   "execution_count": 11,
   "id": "asian-pottery",
   "metadata": {},
   "outputs": [
    {
     "name": "stdout",
     "output_type": "stream",
     "text": [
      "a.raval() \n",
      " [1 2 3 4 5 6 7 8 9]\n",
      "[1 4 7 2 5 8 3 6 9]\n"
     ]
    }
   ],
   "source": [
    "import numpy as np\n",
    "a=np.array([[1,2,3],[4,5,6],[7,8,9]])\n",
    "print('a.raval() \\n',a.ravel())\n",
    "print(np.ravel(a,order=\"F\"))#it order column wise"
   ]
  },
  {
   "cell_type": "code",
   "execution_count": null,
   "id": "congressional-smell",
   "metadata": {},
   "outputs": [],
   "source": []
  }
 ],
 "metadata": {
  "kernelspec": {
   "display_name": "Python 3",
   "language": "python",
   "name": "python3"
  },
  "language_info": {
   "codemirror_mode": {
    "name": "ipython",
    "version": 3
   },
   "file_extension": ".py",
   "mimetype": "text/x-python",
   "name": "python",
   "nbconvert_exporter": "python",
   "pygments_lexer": "ipython3",
   "version": "3.9.2"
  }
 },
 "nbformat": 4,
 "nbformat_minor": 5
}
